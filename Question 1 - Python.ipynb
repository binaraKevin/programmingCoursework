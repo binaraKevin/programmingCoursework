{
 "cells": [
  {
   "cell_type": "code",
   "execution_count": 1,
   "id": "27177627",
   "metadata": {},
   "outputs": [],
   "source": [
    "#importing necessary libraries\n",
    "import pandas as pd\n",
    "import numpy as np\n",
    "import matplotlib.pyplot as plt\n",
    "import seaborn as sns"
   ]
  },
  {
   "cell_type": "code",
   "execution_count": 2,
   "id": "f80e2eb7",
   "metadata": {},
   "outputs": [],
   "source": [
    "#setting pandas to show all columns of the dataframe without truncation\n",
    "pd.set_option('display.max_columns', None)"
   ]
  },
  {
   "cell_type": "markdown",
   "id": "3a73fe5c",
   "metadata": {},
   "source": [
    "#### Loading and exploring the dataset"
   ]
  },
  {
   "cell_type": "code",
   "execution_count": 3,
   "id": "cede6324",
   "metadata": {
    "scrolled": true
   },
   "outputs": [
    {
     "data": {
      "text/html": [
       "<div>\n",
       "<style scoped>\n",
       "    .dataframe tbody tr th:only-of-type {\n",
       "        vertical-align: middle;\n",
       "    }\n",
       "\n",
       "    .dataframe tbody tr th {\n",
       "        vertical-align: top;\n",
       "    }\n",
       "\n",
       "    .dataframe thead th {\n",
       "        text-align: right;\n",
       "    }\n",
       "</style>\n",
       "<table border=\"1\" class=\"dataframe\">\n",
       "  <thead>\n",
       "    <tr style=\"text-align: right;\">\n",
       "      <th></th>\n",
       "      <th>Year</th>\n",
       "      <th>Month</th>\n",
       "      <th>DayofMonth</th>\n",
       "      <th>DayOfWeek</th>\n",
       "      <th>DepTime</th>\n",
       "      <th>CRSDepTime</th>\n",
       "      <th>ArrTime</th>\n",
       "      <th>CRSArrTime</th>\n",
       "      <th>UniqueCarrier</th>\n",
       "      <th>FlightNum</th>\n",
       "      <th>TailNum</th>\n",
       "      <th>ActualElapsedTime</th>\n",
       "      <th>CRSElapsedTime</th>\n",
       "      <th>AirTime</th>\n",
       "      <th>ArrDelay</th>\n",
       "      <th>DepDelay</th>\n",
       "      <th>Origin</th>\n",
       "      <th>Dest</th>\n",
       "      <th>Distance</th>\n",
       "      <th>TaxiIn</th>\n",
       "      <th>TaxiOut</th>\n",
       "      <th>CarrierDelay</th>\n",
       "      <th>WeatherDelay</th>\n",
       "      <th>NASDelay</th>\n",
       "      <th>SecurityDelay</th>\n",
       "      <th>LateAircraftDelay</th>\n",
       "      <th>Time_bin</th>\n",
       "      <th>Manufactured_year</th>\n",
       "      <th>Age</th>\n",
       "      <th>Year_month</th>\n",
       "      <th>Date_time</th>\n",
       "      <th>Delay_status</th>\n",
       "    </tr>\n",
       "  </thead>\n",
       "  <tbody>\n",
       "    <tr>\n",
       "      <th>0</th>\n",
       "      <td>2007</td>\n",
       "      <td>9</td>\n",
       "      <td>27</td>\n",
       "      <td>4</td>\n",
       "      <td>1104</td>\n",
       "      <td>1105</td>\n",
       "      <td>1243</td>\n",
       "      <td>1255</td>\n",
       "      <td>WN</td>\n",
       "      <td>110</td>\n",
       "      <td>N741SA</td>\n",
       "      <td>99.0</td>\n",
       "      <td>110.0</td>\n",
       "      <td>82.0</td>\n",
       "      <td>-12.0</td>\n",
       "      <td>-1.0</td>\n",
       "      <td>SEA</td>\n",
       "      <td>SMF</td>\n",
       "      <td>605</td>\n",
       "      <td>5</td>\n",
       "      <td>12</td>\n",
       "      <td>0</td>\n",
       "      <td>0</td>\n",
       "      <td>0</td>\n",
       "      <td>0</td>\n",
       "      <td>0</td>\n",
       "      <td>10am - 12pm</td>\n",
       "      <td>1998</td>\n",
       "      <td>9</td>\n",
       "      <td>2007-09</td>\n",
       "      <td>2007-09-27 11:05:00</td>\n",
       "      <td>0</td>\n",
       "    </tr>\n",
       "    <tr>\n",
       "      <th>1</th>\n",
       "      <td>2007</td>\n",
       "      <td>11</td>\n",
       "      <td>20</td>\n",
       "      <td>2</td>\n",
       "      <td>2120</td>\n",
       "      <td>2120</td>\n",
       "      <td>2255</td>\n",
       "      <td>2308</td>\n",
       "      <td>EV</td>\n",
       "      <td>4304</td>\n",
       "      <td>N355CA</td>\n",
       "      <td>95.0</td>\n",
       "      <td>108.0</td>\n",
       "      <td>67.0</td>\n",
       "      <td>-13.0</td>\n",
       "      <td>0.0</td>\n",
       "      <td>ATL</td>\n",
       "      <td>CLE</td>\n",
       "      <td>554</td>\n",
       "      <td>10</td>\n",
       "      <td>18</td>\n",
       "      <td>0</td>\n",
       "      <td>0</td>\n",
       "      <td>0</td>\n",
       "      <td>0</td>\n",
       "      <td>0</td>\n",
       "      <td>8pm - 10pm</td>\n",
       "      <td>2002</td>\n",
       "      <td>5</td>\n",
       "      <td>2007-11</td>\n",
       "      <td>2007-11-20 21:20:00</td>\n",
       "      <td>0</td>\n",
       "    </tr>\n",
       "    <tr>\n",
       "      <th>2</th>\n",
       "      <td>2007</td>\n",
       "      <td>7</td>\n",
       "      <td>16</td>\n",
       "      <td>1</td>\n",
       "      <td>1025</td>\n",
       "      <td>1030</td>\n",
       "      <td>1127</td>\n",
       "      <td>1133</td>\n",
       "      <td>OO</td>\n",
       "      <td>5799</td>\n",
       "      <td>N284YV</td>\n",
       "      <td>62.0</td>\n",
       "      <td>63.0</td>\n",
       "      <td>54.0</td>\n",
       "      <td>-6.0</td>\n",
       "      <td>-5.0</td>\n",
       "      <td>PDX</td>\n",
       "      <td>MFR</td>\n",
       "      <td>222</td>\n",
       "      <td>2</td>\n",
       "      <td>6</td>\n",
       "      <td>0</td>\n",
       "      <td>0</td>\n",
       "      <td>0</td>\n",
       "      <td>0</td>\n",
       "      <td>0</td>\n",
       "      <td>10am - 12pm</td>\n",
       "      <td>1994</td>\n",
       "      <td>13</td>\n",
       "      <td>2007-07</td>\n",
       "      <td>2007-07-16 10:30:00</td>\n",
       "      <td>0</td>\n",
       "    </tr>\n",
       "    <tr>\n",
       "      <th>3</th>\n",
       "      <td>2007</td>\n",
       "      <td>8</td>\n",
       "      <td>5</td>\n",
       "      <td>7</td>\n",
       "      <td>1448</td>\n",
       "      <td>1453</td>\n",
       "      <td>1529</td>\n",
       "      <td>1538</td>\n",
       "      <td>AQ</td>\n",
       "      <td>94</td>\n",
       "      <td>N837AL</td>\n",
       "      <td>41.0</td>\n",
       "      <td>45.0</td>\n",
       "      <td>32.0</td>\n",
       "      <td>-9.0</td>\n",
       "      <td>-5.0</td>\n",
       "      <td>HNL</td>\n",
       "      <td>KOA</td>\n",
       "      <td>163</td>\n",
       "      <td>2</td>\n",
       "      <td>7</td>\n",
       "      <td>0</td>\n",
       "      <td>0</td>\n",
       "      <td>0</td>\n",
       "      <td>0</td>\n",
       "      <td>0</td>\n",
       "      <td>2pm - 4pm</td>\n",
       "      <td>1985</td>\n",
       "      <td>22</td>\n",
       "      <td>2007-08</td>\n",
       "      <td>2007-08-05 14:53:00</td>\n",
       "      <td>0</td>\n",
       "    </tr>\n",
       "    <tr>\n",
       "      <th>4</th>\n",
       "      <td>2006</td>\n",
       "      <td>12</td>\n",
       "      <td>10</td>\n",
       "      <td>7</td>\n",
       "      <td>2027</td>\n",
       "      <td>1921</td>\n",
       "      <td>2235</td>\n",
       "      <td>2138</td>\n",
       "      <td>OO</td>\n",
       "      <td>6704</td>\n",
       "      <td>N943SW</td>\n",
       "      <td>68.0</td>\n",
       "      <td>77.0</td>\n",
       "      <td>55.0</td>\n",
       "      <td>57.0</td>\n",
       "      <td>66.0</td>\n",
       "      <td>DEN</td>\n",
       "      <td>LNK</td>\n",
       "      <td>423</td>\n",
       "      <td>3</td>\n",
       "      <td>10</td>\n",
       "      <td>0</td>\n",
       "      <td>0</td>\n",
       "      <td>0</td>\n",
       "      <td>0</td>\n",
       "      <td>57</td>\n",
       "      <td>6pm - 8pm</td>\n",
       "      <td>2003</td>\n",
       "      <td>3</td>\n",
       "      <td>2006-12</td>\n",
       "      <td>2006-12-10 19:21:00</td>\n",
       "      <td>1</td>\n",
       "    </tr>\n",
       "  </tbody>\n",
       "</table>\n",
       "</div>"
      ],
      "text/plain": [
       "   Year  Month  DayofMonth  DayOfWeek  DepTime  CRSDepTime  ArrTime  \\\n",
       "0  2007      9          27          4     1104        1105     1243   \n",
       "1  2007     11          20          2     2120        2120     2255   \n",
       "2  2007      7          16          1     1025        1030     1127   \n",
       "3  2007      8           5          7     1448        1453     1529   \n",
       "4  2006     12          10          7     2027        1921     2235   \n",
       "\n",
       "   CRSArrTime UniqueCarrier  FlightNum TailNum  ActualElapsedTime  \\\n",
       "0        1255            WN        110  N741SA               99.0   \n",
       "1        2308            EV       4304  N355CA               95.0   \n",
       "2        1133            OO       5799  N284YV               62.0   \n",
       "3        1538            AQ         94  N837AL               41.0   \n",
       "4        2138            OO       6704  N943SW               68.0   \n",
       "\n",
       "   CRSElapsedTime  AirTime  ArrDelay  DepDelay Origin Dest  Distance  TaxiIn  \\\n",
       "0           110.0     82.0     -12.0      -1.0    SEA  SMF       605       5   \n",
       "1           108.0     67.0     -13.0       0.0    ATL  CLE       554      10   \n",
       "2            63.0     54.0      -6.0      -5.0    PDX  MFR       222       2   \n",
       "3            45.0     32.0      -9.0      -5.0    HNL  KOA       163       2   \n",
       "4            77.0     55.0      57.0      66.0    DEN  LNK       423       3   \n",
       "\n",
       "   TaxiOut  CarrierDelay  WeatherDelay  NASDelay  SecurityDelay  \\\n",
       "0       12             0             0         0              0   \n",
       "1       18             0             0         0              0   \n",
       "2        6             0             0         0              0   \n",
       "3        7             0             0         0              0   \n",
       "4       10             0             0         0              0   \n",
       "\n",
       "   LateAircraftDelay     Time_bin  Manufactured_year  Age Year_month  \\\n",
       "0                  0  10am - 12pm               1998    9    2007-09   \n",
       "1                  0   8pm - 10pm               2002    5    2007-11   \n",
       "2                  0  10am - 12pm               1994   13    2007-07   \n",
       "3                  0    2pm - 4pm               1985   22    2007-08   \n",
       "4                 57    6pm - 8pm               2003    3    2006-12   \n",
       "\n",
       "             Date_time  Delay_status  \n",
       "0  2007-09-27 11:05:00             0  \n",
       "1  2007-11-20 21:20:00             0  \n",
       "2  2007-07-16 10:30:00             0  \n",
       "3  2007-08-05 14:53:00             0  \n",
       "4  2006-12-10 19:21:00             1  "
      ]
     },
     "execution_count": 3,
     "metadata": {},
     "output_type": "execute_result"
    }
   ],
   "source": [
    "df = pd.read_csv(\"cleaned_dataset.csv\")\n",
    "df.head()"
   ]
  },
  {
   "cell_type": "code",
   "execution_count": 4,
   "id": "0283ef38",
   "metadata": {},
   "outputs": [
    {
     "data": {
      "text/plain": [
       "(5750846, 32)"
      ]
     },
     "execution_count": 4,
     "metadata": {},
     "output_type": "execute_result"
    }
   ],
   "source": [
    "#checking the number of rows and columns of the dataframe\n",
    "df.shape"
   ]
  },
  {
   "cell_type": "markdown",
   "id": "ee4bec7a",
   "metadata": {},
   "source": [
    "### Q1) When is the best time of day, day of the week, and time of year to fly to minimise delays?"
   ]
  },
  {
   "cell_type": "code",
   "execution_count": 5,
   "id": "f8f9ed7f",
   "metadata": {},
   "outputs": [
    {
     "data": {
      "text/html": [
       "<div>\n",
       "<style scoped>\n",
       "    .dataframe tbody tr th:only-of-type {\n",
       "        vertical-align: middle;\n",
       "    }\n",
       "\n",
       "    .dataframe tbody tr th {\n",
       "        vertical-align: top;\n",
       "    }\n",
       "\n",
       "    .dataframe thead th {\n",
       "        text-align: right;\n",
       "    }\n",
       "</style>\n",
       "<table border=\"1\" class=\"dataframe\">\n",
       "  <thead>\n",
       "    <tr style=\"text-align: right;\">\n",
       "      <th></th>\n",
       "      <th>Year</th>\n",
       "      <th>Month</th>\n",
       "      <th>DayofMonth</th>\n",
       "      <th>DayOfWeek</th>\n",
       "      <th>CRSDepTime</th>\n",
       "      <th>ArrDelay</th>\n",
       "      <th>Time_bin</th>\n",
       "    </tr>\n",
       "  </thead>\n",
       "  <tbody>\n",
       "    <tr>\n",
       "      <th>0</th>\n",
       "      <td>2007</td>\n",
       "      <td>9</td>\n",
       "      <td>27</td>\n",
       "      <td>4</td>\n",
       "      <td>1105</td>\n",
       "      <td>-12.0</td>\n",
       "      <td>10am - 12pm</td>\n",
       "    </tr>\n",
       "    <tr>\n",
       "      <th>1</th>\n",
       "      <td>2007</td>\n",
       "      <td>11</td>\n",
       "      <td>20</td>\n",
       "      <td>2</td>\n",
       "      <td>2120</td>\n",
       "      <td>-13.0</td>\n",
       "      <td>8pm - 10pm</td>\n",
       "    </tr>\n",
       "    <tr>\n",
       "      <th>2</th>\n",
       "      <td>2007</td>\n",
       "      <td>7</td>\n",
       "      <td>16</td>\n",
       "      <td>1</td>\n",
       "      <td>1030</td>\n",
       "      <td>-6.0</td>\n",
       "      <td>10am - 12pm</td>\n",
       "    </tr>\n",
       "    <tr>\n",
       "      <th>3</th>\n",
       "      <td>2007</td>\n",
       "      <td>8</td>\n",
       "      <td>5</td>\n",
       "      <td>7</td>\n",
       "      <td>1453</td>\n",
       "      <td>-9.0</td>\n",
       "      <td>2pm - 4pm</td>\n",
       "    </tr>\n",
       "    <tr>\n",
       "      <th>4</th>\n",
       "      <td>2006</td>\n",
       "      <td>12</td>\n",
       "      <td>10</td>\n",
       "      <td>7</td>\n",
       "      <td>1921</td>\n",
       "      <td>57.0</td>\n",
       "      <td>6pm - 8pm</td>\n",
       "    </tr>\n",
       "  </tbody>\n",
       "</table>\n",
       "</div>"
      ],
      "text/plain": [
       "   Year  Month  DayofMonth  DayOfWeek  CRSDepTime  ArrDelay     Time_bin\n",
       "0  2007      9          27          4        1105     -12.0  10am - 12pm\n",
       "1  2007     11          20          2        2120     -13.0   8pm - 10pm\n",
       "2  2007      7          16          1        1030      -6.0  10am - 12pm\n",
       "3  2007      8           5          7        1453      -9.0    2pm - 4pm\n",
       "4  2006     12          10          7        1921      57.0    6pm - 8pm"
      ]
     },
     "execution_count": 5,
     "metadata": {},
     "output_type": "execute_result"
    }
   ],
   "source": [
    "#creating a seperate dataframe with only the necessary columns for the question\n",
    "q1 = df.loc[:, ['Year', 'Month', 'DayofMonth', 'DayOfWeek','CRSDepTime','ArrDelay', 'Time_bin']]\n",
    "q1.head()"
   ]
  },
  {
   "cell_type": "code",
   "execution_count": 6,
   "id": "fd5c2de1",
   "metadata": {},
   "outputs": [],
   "source": [
    "#calculating the average and standard deviation of delays for each time slot\n",
    "hourly_delays = q1.groupby('Time_bin', as_index=False).agg(Avg_delay=('ArrDelay', 'mean'),\n",
    "                                                    Standard_deviation=('ArrDelay', 'std'))\n",
    "\n",
    "#getting the max delays of the time slots within one standard deviation above the mean\n",
    "hourly_delays['Max_delay'] = (hourly_delays['Avg_delay'] + hourly_delays['Standard_deviation'])"
   ]
  },
  {
   "cell_type": "code",
   "execution_count": 7,
   "id": "b3b161e6",
   "metadata": {},
   "outputs": [
    {
     "data": {
      "text/html": [
       "<div>\n",
       "<style scoped>\n",
       "    .dataframe tbody tr th:only-of-type {\n",
       "        vertical-align: middle;\n",
       "    }\n",
       "\n",
       "    .dataframe tbody tr th {\n",
       "        vertical-align: top;\n",
       "    }\n",
       "\n",
       "    .dataframe thead th {\n",
       "        text-align: right;\n",
       "    }\n",
       "</style>\n",
       "<table border=\"1\" class=\"dataframe\">\n",
       "  <thead>\n",
       "    <tr style=\"text-align: right;\">\n",
       "      <th></th>\n",
       "      <th>Time_bin</th>\n",
       "      <th>Avg_delay</th>\n",
       "      <th>Standard_deviation</th>\n",
       "      <th>Max_delay</th>\n",
       "    </tr>\n",
       "  </thead>\n",
       "  <tbody>\n",
       "    <tr>\n",
       "      <th>0</th>\n",
       "      <td>10am - 12pm</td>\n",
       "      <td>6.223322</td>\n",
       "      <td>31.812904</td>\n",
       "      <td>38.036226</td>\n",
       "    </tr>\n",
       "    <tr>\n",
       "      <th>1</th>\n",
       "      <td>10pm - 12am</td>\n",
       "      <td>8.292581</td>\n",
       "      <td>35.579412</td>\n",
       "      <td>43.871992</td>\n",
       "    </tr>\n",
       "    <tr>\n",
       "      <th>2</th>\n",
       "      <td>12am - 2am</td>\n",
       "      <td>7.251309</td>\n",
       "      <td>50.513372</td>\n",
       "      <td>57.764681</td>\n",
       "    </tr>\n",
       "    <tr>\n",
       "      <th>3</th>\n",
       "      <td>12pm - 2pm</td>\n",
       "      <td>9.279221</td>\n",
       "      <td>37.095059</td>\n",
       "      <td>46.374280</td>\n",
       "    </tr>\n",
       "    <tr>\n",
       "      <th>4</th>\n",
       "      <td>2am - 4am</td>\n",
       "      <td>5.137663</td>\n",
       "      <td>38.227349</td>\n",
       "      <td>43.365012</td>\n",
       "    </tr>\n",
       "    <tr>\n",
       "      <th>5</th>\n",
       "      <td>2pm - 4pm</td>\n",
       "      <td>12.749162</td>\n",
       "      <td>40.955727</td>\n",
       "      <td>53.704889</td>\n",
       "    </tr>\n",
       "    <tr>\n",
       "      <th>6</th>\n",
       "      <td>4am - 6am</td>\n",
       "      <td>0.741603</td>\n",
       "      <td>31.341793</td>\n",
       "      <td>32.083396</td>\n",
       "    </tr>\n",
       "    <tr>\n",
       "      <th>7</th>\n",
       "      <td>4pm - 6pm</td>\n",
       "      <td>15.742587</td>\n",
       "      <td>43.855801</td>\n",
       "      <td>59.598387</td>\n",
       "    </tr>\n",
       "    <tr>\n",
       "      <th>8</th>\n",
       "      <td>6am - 8am</td>\n",
       "      <td>1.362288</td>\n",
       "      <td>30.344661</td>\n",
       "      <td>31.706949</td>\n",
       "    </tr>\n",
       "    <tr>\n",
       "      <th>9</th>\n",
       "      <td>6pm - 8pm</td>\n",
       "      <td>16.681323</td>\n",
       "      <td>44.165572</td>\n",
       "      <td>60.846895</td>\n",
       "    </tr>\n",
       "    <tr>\n",
       "      <th>10</th>\n",
       "      <td>8am - 10am</td>\n",
       "      <td>3.957369</td>\n",
       "      <td>30.642236</td>\n",
       "      <td>34.599605</td>\n",
       "    </tr>\n",
       "    <tr>\n",
       "      <th>11</th>\n",
       "      <td>8pm - 10pm</td>\n",
       "      <td>15.224004</td>\n",
       "      <td>40.790280</td>\n",
       "      <td>56.014285</td>\n",
       "    </tr>\n",
       "  </tbody>\n",
       "</table>\n",
       "</div>"
      ],
      "text/plain": [
       "       Time_bin  Avg_delay  Standard_deviation  Max_delay\n",
       "0   10am - 12pm   6.223322           31.812904  38.036226\n",
       "1   10pm - 12am   8.292581           35.579412  43.871992\n",
       "2    12am - 2am   7.251309           50.513372  57.764681\n",
       "3    12pm - 2pm   9.279221           37.095059  46.374280\n",
       "4     2am - 4am   5.137663           38.227349  43.365012\n",
       "5     2pm - 4pm  12.749162           40.955727  53.704889\n",
       "6     4am - 6am   0.741603           31.341793  32.083396\n",
       "7     4pm - 6pm  15.742587           43.855801  59.598387\n",
       "8     6am - 8am   1.362288           30.344661  31.706949\n",
       "9     6pm - 8pm  16.681323           44.165572  60.846895\n",
       "10   8am - 10am   3.957369           30.642236  34.599605\n",
       "11   8pm - 10pm  15.224004           40.790280  56.014285"
      ]
     },
     "execution_count": 7,
     "metadata": {},
     "output_type": "execute_result"
    }
   ],
   "source": [
    "#checking the hourly delays\n",
    "hourly_delays.head(12)"
   ]
  },
  {
   "cell_type": "code",
   "execution_count": 8,
   "id": "b533d375",
   "metadata": {},
   "outputs": [],
   "source": [
    "#reordering the rows of hourly_delays dataframe\n",
    "hourly_delays = hourly_delays.reindex([2, 4, 6, 8, 10, 0, 3, 5, 7, 9, 11, 1])"
   ]
  },
  {
   "cell_type": "code",
   "execution_count": 9,
   "id": "e52fe232",
   "metadata": {},
   "outputs": [
    {
     "data": {
      "text/plain": [
       "6am - 8am      795718\n",
       "8am - 10am     781139\n",
       "4pm - 6pm      753306\n",
       "10am - 12pm    753267\n",
       "12pm - 2pm     735667\n",
       "2pm - 4pm      709050\n",
       "6pm - 8pm      667573\n",
       "8pm - 10pm     406001\n",
       "10pm - 12am    102030\n",
       "4am - 6am       42725\n",
       "2am - 4am        3988\n",
       "12am - 2am        382\n",
       "Name: Time_bin, dtype: int64"
      ]
     },
     "execution_count": 9,
     "metadata": {},
     "output_type": "execute_result"
    }
   ],
   "source": [
    "#getting the number of flights in each 2 hour time slot\n",
    "q1['Time_bin'].value_counts()"
   ]
  },
  {
   "cell_type": "code",
   "execution_count": 10,
   "id": "d81b437f",
   "metadata": {},
   "outputs": [],
   "source": [
    "#getting a colour-blind friendly, colour palette\n",
    "sns.reset_orig()\n",
    "my_palette = sns.color_palette(\"colorblind\")\n",
    "plt.style.use('seaborn-colorblind')"
   ]
  },
  {
   "cell_type": "code",
   "execution_count": 11,
   "id": "d79668c7",
   "metadata": {},
   "outputs": [
    {
     "data": {
      "image/png": "[encoded data removed]",
      "text/plain": [
       "<Figure size 1152x576 with 1 Axes>"
      ]
     },
     "metadata": {
      "needs_background": "light"
     },
     "output_type": "display_data"
    }
   ],
   "source": [
    "#plotting a barplot to visualise the average delay per 2 hour time slot\n",
    "fig, ax = plt.subplots(1, 1, figsize = (16, 8))\n",
    "\n",
    "sns.barplot(x= \"Time_bin\", y = \"Avg_delay\", data = hourly_delays, color = my_palette[0])\n",
    "plt.grid(color= my_palette[2], linestyle='--',linewidth=2, axis='y', alpha=0.4)\n",
    "ax.set_ylabel('Average delay (in minutes)', size = 15, labelpad = 15)\n",
    "ax.set_xlabel('Time slots', size = 15, labelpad = 20)\n",
    "ax.set_title('Average Delays per 2 hour time slot', size = 18, pad = 15)\n",
    "\n",
    "ax.tick_params(axis='y', labelsize=13)\n",
    "ax.tick_params(axis='x', labelsize=13, rotation=45)\n",
    "\n",
    "ax.spines['right'].set_visible(False)\n",
    "ax.spines['top'].set_visible(False)\n",
    "\n",
    "plt.savefig(\"Delay per 2 hours.png\", bbox_inches = 'tight')\n",
    "plt.show()"
   ]
  },
  {
   "cell_type": "code",
   "execution_count": 12,
   "id": "4e295f52",
   "metadata": {},
   "outputs": [
    {
     "data": {
      "image/png": "[encoded data removed]",
      "text/plain": [
       "<Figure size 1152x576 with 1 Axes>"
      ]
     },
     "metadata": {
      "needs_background": "light"
     },
     "output_type": "display_data"
    }
   ],
   "source": [
    "#plotting a barplot to visualise the maximum delay per 2 hour time slot within one standard deviation above the mean\n",
    "fig, ax = plt.subplots(1, 1, figsize = (16, 8))\n",
    "\n",
    "sns.barplot(x= \"Time_bin\", y = \"Max_delay\", data = hourly_delays, color = my_palette[0])\n",
    "plt.grid(color= my_palette[2], linestyle='--',linewidth=2, axis='y', alpha=0.4)\n",
    "ax.set_ylabel('Maximum delay (in minutes)', size = 15, labelpad = 15)\n",
    "ax.set_xlabel('Time slots', size = 15, labelpad = 20)\n",
    "ax.set_title('Max Delay per 2 hour time slot within 1 standard deviation above the mean', size = 18, pad = 15)\n",
    "\n",
    "ax.tick_params(axis='y', labelsize=13)\n",
    "ax.tick_params(axis='x', labelsize=13, rotation=45)\n",
    "\n",
    "ax.spines[\"right\"].set_visible(False)\n",
    "ax.spines[\"top\"].set_visible(False)\n",
    "\n",
    "plt.savefig(\"Max delay per 2 hours.png\", bbox_inches = 'tight')\n",
    "plt.show()"
   ]
  },
  {
   "cell_type": "code",
   "execution_count": 13,
   "id": "07d5378e",
   "metadata": {},
   "outputs": [],
   "source": [
    "#the time slot between 6am - 8am is when passengers are most likely to minimze their delays."
   ]
  },
  {
   "cell_type": "code",
   "execution_count": 14,
   "id": "854e4a70",
   "metadata": {},
   "outputs": [],
   "source": [
    "#calculating the average and standard deviation of delays for each time slot\n",
    "daily_delays = q1.groupby('DayOfWeek', as_index=False).agg(Avg_delay=('ArrDelay', 'mean'),\n",
    "                                                    Standard_deviation=('ArrDelay', 'std'))\n",
    "\n",
    "#getting the max delays of the time slots within one standard deviation\n",
    "daily_delays['Max_delay'] = (daily_delays['Avg_delay'] + daily_delays['Standard_deviation'])"
   ]
  },
  {
   "cell_type": "code",
   "execution_count": 15,
   "id": "9148fe0a",
   "metadata": {},
   "outputs": [
    {
     "data": {
      "text/html": [
       "<div>\n",
       "<style scoped>\n",
       "    .dataframe tbody tr th:only-of-type {\n",
       "        vertical-align: middle;\n",
       "    }\n",
       "\n",
       "    .dataframe tbody tr th {\n",
       "        vertical-align: top;\n",
       "    }\n",
       "\n",
       "    .dataframe thead th {\n",
       "        text-align: right;\n",
       "    }\n",
       "</style>\n",
       "<table border=\"1\" class=\"dataframe\">\n",
       "  <thead>\n",
       "    <tr style=\"text-align: right;\">\n",
       "      <th></th>\n",
       "      <th>DayOfWeek</th>\n",
       "      <th>Avg_delay</th>\n",
       "      <th>Standard_deviation</th>\n",
       "      <th>Max_delay</th>\n",
       "    </tr>\n",
       "  </thead>\n",
       "  <tbody>\n",
       "    <tr>\n",
       "      <th>0</th>\n",
       "      <td>1</td>\n",
       "      <td>9.786855</td>\n",
       "      <td>37.391072</td>\n",
       "      <td>47.177927</td>\n",
       "    </tr>\n",
       "    <tr>\n",
       "      <th>1</th>\n",
       "      <td>2</td>\n",
       "      <td>7.462359</td>\n",
       "      <td>35.556969</td>\n",
       "      <td>43.019327</td>\n",
       "    </tr>\n",
       "    <tr>\n",
       "      <th>2</th>\n",
       "      <td>3</td>\n",
       "      <td>9.187176</td>\n",
       "      <td>37.557426</td>\n",
       "      <td>46.744602</td>\n",
       "    </tr>\n",
       "    <tr>\n",
       "      <th>3</th>\n",
       "      <td>4</td>\n",
       "      <td>12.201661</td>\n",
       "      <td>40.841382</td>\n",
       "      <td>53.043043</td>\n",
       "    </tr>\n",
       "    <tr>\n",
       "      <th>4</th>\n",
       "      <td>5</td>\n",
       "      <td>12.728707</td>\n",
       "      <td>39.935459</td>\n",
       "      <td>52.664166</td>\n",
       "    </tr>\n",
       "    <tr>\n",
       "      <th>5</th>\n",
       "      <td>6</td>\n",
       "      <td>5.491551</td>\n",
       "      <td>33.650649</td>\n",
       "      <td>39.142201</td>\n",
       "    </tr>\n",
       "    <tr>\n",
       "      <th>6</th>\n",
       "      <td>7</td>\n",
       "      <td>9.208648</td>\n",
       "      <td>37.963945</td>\n",
       "      <td>47.172592</td>\n",
       "    </tr>\n",
       "  </tbody>\n",
       "</table>\n",
       "</div>"
      ],
      "text/plain": [
       "   DayOfWeek  Avg_delay  Standard_deviation  Max_delay\n",
       "0          1   9.786855           37.391072  47.177927\n",
       "1          2   7.462359           35.556969  43.019327\n",
       "2          3   9.187176           37.557426  46.744602\n",
       "3          4  12.201661           40.841382  53.043043\n",
       "4          5  12.728707           39.935459  52.664166\n",
       "5          6   5.491551           33.650649  39.142201\n",
       "6          7   9.208648           37.963945  47.172592"
      ]
     },
     "execution_count": 15,
     "metadata": {},
     "output_type": "execute_result"
    }
   ],
   "source": [
    "#checking the hourly delays\n",
    "daily_delays.head(7)"
   ]
  },
  {
   "cell_type": "code",
   "execution_count": 16,
   "id": "735017c3",
   "metadata": {},
   "outputs": [
    {
     "data": {
      "text/plain": [
       "1    852953\n",
       "5    849075\n",
       "4    846380\n",
       "3    838266\n",
       "2    827799\n",
       "7    809226\n",
       "6    727147\n",
       "Name: DayOfWeek, dtype: int64"
      ]
     },
     "execution_count": 16,
     "metadata": {},
     "output_type": "execute_result"
    }
   ],
   "source": [
    "#getting the number of flights on each day\n",
    "q1['DayOfWeek'].value_counts()"
   ]
  },
  {
   "cell_type": "code",
   "execution_count": 17,
   "id": "79a9fcf6",
   "metadata": {},
   "outputs": [
    {
     "data": {
      "image/png": "[encoded data removed]",
      "text/plain": [
       "<Figure size 1152x576 with 1 Axes>"
      ]
     },
     "metadata": {
      "needs_background": "light"
     },
     "output_type": "display_data"
    }
   ],
   "source": [
    "#plotting a barplot to visualise the average delay per day of the week\n",
    "fig, ax = plt.subplots(1, 1, figsize = (16, 8))\n",
    "\n",
    "sns.barplot(x= 'DayOfWeek', y = 'Avg_delay', data = daily_delays, color = my_palette[0])\n",
    "plt.grid(color= my_palette[2], linestyle='--',linewidth=2, axis='y', alpha=0.4)\n",
    "ax.set_ylabel('Delay (in minutes)', size = 15, labelpad = 15)\n",
    "ax.set_xlabel('Day of the Week', size = 15, labelpad = 20)\n",
    "ax.set_title('Average delay per day of the week', size = 18, pad = 15)\n",
    "\n",
    "ax.tick_params(axis='y', labelsize=13)\n",
    "ax.tick_params(axis='x', labelsize=13, pad = 10)\n",
    "\n",
    "ax.spines[\"right\"].set_visible(False)\n",
    "ax.spines[\"top\"].set_visible(False)\n",
    "\n",
    "plt.savefig(\"Delay per day.png\", bbox_inches = 'tight')\n",
    "plt.show()"
   ]
  },
  {
   "cell_type": "code",
   "execution_count": 18,
   "id": "99b238cc",
   "metadata": {},
   "outputs": [
    {
     "data": {
      "image/png": "[encoded data removed]",
      "text/plain": [
       "<Figure size 1152x576 with 1 Axes>"
      ]
     },
     "metadata": {
      "needs_background": "light"
     },
     "output_type": "display_data"
    }
   ],
   "source": [
    "#plotting a barplot to visualise the maximum delay per day of the week within 1 standard deviation above the mean\n",
    "fig, ax = plt.subplots(1, 1, figsize = (16, 8))\n",
    "\n",
    "sns.barplot(x= 'DayOfWeek', y = 'Max_delay', data = daily_delays, color = my_palette[0])\n",
    "plt.grid(color= my_palette[2], linestyle='--',linewidth=2, axis='y', alpha=0.4)\n",
    "ax.set_ylabel('Delay (in minutes)', size = 15, labelpad = 15)\n",
    "ax.set_xlabel('Day of the Week', size = 15, labelpad = 20)\n",
    "ax.set_title('Maximum delay per day of the week within 1 standard deviation above the mean', size = 18, pad = 15)\n",
    "\n",
    "ax.tick_params(axis='y', labelsize=13)\n",
    "ax.tick_params(axis='x', labelsize=13, pad = 10)\n",
    "\n",
    "ax.spines[\"right\"].set_visible(False)\n",
    "ax.spines[\"top\"].set_visible(False)\n",
    "\n",
    "plt.savefig(\"Max delay per day.png\", bbox_inches = 'tight')\n",
    "plt.show()"
   ]
  },
  {
   "cell_type": "code",
   "execution_count": 19,
   "id": "b1cf3887",
   "metadata": {},
   "outputs": [],
   "source": [
    "#saturday is the day in which passengers are most likely to minimze their delays."
   ]
  },
  {
   "cell_type": "code",
   "execution_count": 20,
   "id": "74eed7c9",
   "metadata": {},
   "outputs": [],
   "source": [
    "#calculating the average and standard deviation of delays for each season\n",
    "monthly_delays = q1.groupby('Month', as_index=False).agg(Avg_delay=('ArrDelay', 'mean'),\n",
    "                                                    Standard_deviation=('ArrDelay', 'std'))\n",
    "\n",
    "#getting the max delays of the time slots within one standard deviation above the mean\n",
    "monthly_delays['Max_delay'] = (monthly_delays['Avg_delay'] + monthly_delays['Standard_deviation'])"
   ]
  },
  {
   "cell_type": "code",
   "execution_count": 21,
   "id": "c8b9d025",
   "metadata": {},
   "outputs": [
    {
     "data": {
      "text/html": [
       "<div>\n",
       "<style scoped>\n",
       "    .dataframe tbody tr th:only-of-type {\n",
       "        vertical-align: middle;\n",
       "    }\n",
       "\n",
       "    .dataframe tbody tr th {\n",
       "        vertical-align: top;\n",
       "    }\n",
       "\n",
       "    .dataframe thead th {\n",
       "        text-align: right;\n",
       "    }\n",
       "</style>\n",
       "<table border=\"1\" class=\"dataframe\">\n",
       "  <thead>\n",
       "    <tr style=\"text-align: right;\">\n",
       "      <th></th>\n",
       "      <th>Month</th>\n",
       "      <th>Avg_delay</th>\n",
       "      <th>Standard_deviation</th>\n",
       "      <th>Max_delay</th>\n",
       "    </tr>\n",
       "  </thead>\n",
       "  <tbody>\n",
       "    <tr>\n",
       "      <th>0</th>\n",
       "      <td>1</td>\n",
       "      <td>8.097617</td>\n",
       "      <td>35.596321</td>\n",
       "      <td>43.693938</td>\n",
       "    </tr>\n",
       "    <tr>\n",
       "      <th>1</th>\n",
       "      <td>2</td>\n",
       "      <td>10.686576</td>\n",
       "      <td>39.064081</td>\n",
       "      <td>49.750657</td>\n",
       "    </tr>\n",
       "    <tr>\n",
       "      <th>2</th>\n",
       "      <td>3</td>\n",
       "      <td>9.274743</td>\n",
       "      <td>36.919689</td>\n",
       "      <td>46.194433</td>\n",
       "    </tr>\n",
       "    <tr>\n",
       "      <th>3</th>\n",
       "      <td>4</td>\n",
       "      <td>7.559653</td>\n",
       "      <td>34.662594</td>\n",
       "      <td>42.222247</td>\n",
       "    </tr>\n",
       "    <tr>\n",
       "      <th>4</th>\n",
       "      <td>5</td>\n",
       "      <td>7.012204</td>\n",
       "      <td>34.277715</td>\n",
       "      <td>41.289919</td>\n",
       "    </tr>\n",
       "    <tr>\n",
       "      <th>5</th>\n",
       "      <td>6</td>\n",
       "      <td>13.954507</td>\n",
       "      <td>43.343896</td>\n",
       "      <td>57.298402</td>\n",
       "    </tr>\n",
       "    <tr>\n",
       "      <th>6</th>\n",
       "      <td>7</td>\n",
       "      <td>12.711979</td>\n",
       "      <td>42.343467</td>\n",
       "      <td>55.055446</td>\n",
       "    </tr>\n",
       "    <tr>\n",
       "      <th>7</th>\n",
       "      <td>8</td>\n",
       "      <td>10.585514</td>\n",
       "      <td>38.712689</td>\n",
       "      <td>49.298202</td>\n",
       "    </tr>\n",
       "    <tr>\n",
       "      <th>8</th>\n",
       "      <td>9</td>\n",
       "      <td>5.941374</td>\n",
       "      <td>33.831388</td>\n",
       "      <td>39.772763</td>\n",
       "    </tr>\n",
       "    <tr>\n",
       "      <th>9</th>\n",
       "      <td>10</td>\n",
       "      <td>8.692537</td>\n",
       "      <td>36.533557</td>\n",
       "      <td>45.226094</td>\n",
       "    </tr>\n",
       "    <tr>\n",
       "      <th>10</th>\n",
       "      <td>11</td>\n",
       "      <td>6.042599</td>\n",
       "      <td>33.483420</td>\n",
       "      <td>39.526019</td>\n",
       "    </tr>\n",
       "    <tr>\n",
       "      <th>11</th>\n",
       "      <td>12</td>\n",
       "      <td>13.567802</td>\n",
       "      <td>41.353160</td>\n",
       "      <td>54.920962</td>\n",
       "    </tr>\n",
       "  </tbody>\n",
       "</table>\n",
       "</div>"
      ],
      "text/plain": [
       "    Month  Avg_delay  Standard_deviation  Max_delay\n",
       "0       1   8.097617           35.596321  43.693938\n",
       "1       2  10.686576           39.064081  49.750657\n",
       "2       3   9.274743           36.919689  46.194433\n",
       "3       4   7.559653           34.662594  42.222247\n",
       "4       5   7.012204           34.277715  41.289919\n",
       "5       6  13.954507           43.343896  57.298402\n",
       "6       7  12.711979           42.343467  55.055446\n",
       "7       8  10.585514           38.712689  49.298202\n",
       "8       9   5.941374           33.831388  39.772763\n",
       "9      10   8.692537           36.533557  45.226094\n",
       "10     11   6.042599           33.483420  39.526019\n",
       "11     12  13.567802           41.353160  54.920962"
      ]
     },
     "execution_count": 21,
     "metadata": {},
     "output_type": "execute_result"
    }
   ],
   "source": [
    "#checking the monthly delays\n",
    "monthly_delays.head(12)"
   ]
  },
  {
   "cell_type": "code",
   "execution_count": 22,
   "id": "e8ea3fa8",
   "metadata": {},
   "outputs": [
    {
     "data": {
      "text/plain": [
       "8     512548\n",
       "7     505422\n",
       "10    500831\n",
       "5     491249\n",
       "3     488321\n",
       "6     486092\n",
       "12    484933\n",
       "11    483131\n",
       "9     476497\n",
       "4     475439\n",
       "1     434022\n",
       "2     412361\n",
       "Name: Month, dtype: int64"
      ]
     },
     "execution_count": 22,
     "metadata": {},
     "output_type": "execute_result"
    }
   ],
   "source": [
    "#getting the number of flights in each 2 hour time slot\n",
    "q1['Month'].value_counts()"
   ]
  },
  {
   "cell_type": "code",
   "execution_count": 23,
   "id": "cabd5057",
   "metadata": {},
   "outputs": [
    {
     "data": {
      "image/png": "[encoded data removed]",
      "text/plain": [
       "<Figure size 1152x576 with 1 Axes>"
      ]
     },
     "metadata": {
      "needs_background": "light"
     },
     "output_type": "display_data"
    }
   ],
   "source": [
    "#plotting a barplot to visualise the average delay per month of the year\n",
    "fig, ax = plt.subplots(1, 1, figsize = (16, 8))\n",
    "\n",
    "sns.barplot(x= 'Month', y = 'Avg_delay', data = monthly_delays, color = my_palette[0])\n",
    "plt.grid(color= my_palette[2], linestyle='--',linewidth=2, axis='y', alpha=0.4)\n",
    "ax.set_ylabel('Delay (in minutes)', size = 15, labelpad = 15)\n",
    "ax.set_xlabel('Month of the year', size = 15, labelpad = 20)\n",
    "ax.set_title('Average delay per month of the year', size = 18, pad = 15)\n",
    "\n",
    "ax.tick_params(axis='y', labelsize=13)\n",
    "ax.tick_params(axis='x', labelsize=13, pad = 10)\n",
    "\n",
    "ax.spines[\"right\"].set_visible(False)\n",
    "ax.spines[\"top\"].set_visible(False)\n",
    "\n",
    "plt.savefig(\"Delay per month.png\", bbox_inches = 'tight')\n",
    "plt.show()"
   ]
  },
  {
   "cell_type": "code",
   "execution_count": 24,
   "id": "547a4e15",
   "metadata": {},
   "outputs": [
    {
     "data": {
      "image/png": "[encoded data removed]",
      "text/plain": [
       "<Figure size 1152x576 with 1 Axes>"
      ]
     },
     "metadata": {
      "needs_background": "light"
     },
     "output_type": "display_data"
    }
   ],
   "source": [
    "#plotting a barplot to visualise the maximum delay per month of the year within 1 standard deviation above the mean\n",
    "fig, ax = plt.subplots(1, 1, figsize = (16, 8))\n",
    "\n",
    "sns.barplot(x= 'Month', y = 'Max_delay', data = monthly_delays, color = my_palette[0])\n",
    "plt.grid(color= my_palette[2], linestyle='--',linewidth=2, axis='y', alpha=0.4)\n",
    "ax.set_ylabel('Delay (in minutes)', size = 15, labelpad = 15)\n",
    "ax.set_xlabel('Month of the year', size = 15, labelpad = 20)\n",
    "ax.set_title('Maximum delay per month of the year within 1 standard deviation above the mean', size = 18, pad = 15)\n",
    "\n",
    "ax.tick_params(axis='y', labelsize=13)\n",
    "ax.tick_params(axis='x', labelsize=13, pad = 10)\n",
    "\n",
    "ax.spines[\"right\"].set_visible(False)\n",
    "ax.spines[\"top\"].set_visible(False)\n",
    "\n",
    "plt.savefig(\"Max delay per month.png\", bbox_inches = 'tight')\n",
    "plt.show()"
   ]
  },
  {
   "cell_type": "code",
   "execution_count": 25,
   "id": "4f4cf33e",
   "metadata": {},
   "outputs": [],
   "source": [
    "#November is the month in which passengers are most likely to minimze their delays."
   ]
  },
  {
   "cell_type": "code",
   "execution_count": 26,
   "id": "009d2e19",
   "metadata": {},
   "outputs": [],
   "source": [
    "#creating a lambda function to map months to seasons\n",
    "season = lambda month: 'Spring' if month in [3, 4, 5] else \\\n",
    "                           'Summer' if month in [6, 7, 8] else \\\n",
    "                           'Autumn' if month in [9, 10, 11] else 'Winter'"
   ]
  },
  {
   "cell_type": "code",
   "execution_count": 27,
   "id": "459d76b0",
   "metadata": {},
   "outputs": [],
   "source": [
    "#mapping the months to their relevant season by applying the above lamda function, and storing it in a new column\n",
    "q1['Season'] = df['Month'].apply(season)"
   ]
  },
  {
   "cell_type": "code",
   "execution_count": 28,
   "id": "1c95f72b",
   "metadata": {},
   "outputs": [],
   "source": [
    "#calculating the average and standard deviation of delays for each season\n",
    "seasonal_delays = q1.groupby('Season', as_index=False).agg(Avg_delay=('ArrDelay', 'mean'),\n",
    "                                                    Standard_deviation=('ArrDelay', 'std'))\n",
    "\n",
    "#getting the max delays of the time slots within one standard deviation above the mean\n",
    "seasonal_delays['Max_delay'] = (seasonal_delays['Avg_delay'] + seasonal_delays['Standard_deviation'])"
   ]
  },
  {
   "cell_type": "code",
   "execution_count": 29,
   "id": "58c762ee",
   "metadata": {},
   "outputs": [
    {
     "data": {
      "text/html": [
       "<div>\n",
       "<style scoped>\n",
       "    .dataframe tbody tr th:only-of-type {\n",
       "        vertical-align: middle;\n",
       "    }\n",
       "\n",
       "    .dataframe tbody tr th {\n",
       "        vertical-align: top;\n",
       "    }\n",
       "\n",
       "    .dataframe thead th {\n",
       "        text-align: right;\n",
       "    }\n",
       "</style>\n",
       "<table border=\"1\" class=\"dataframe\">\n",
       "  <thead>\n",
       "    <tr style=\"text-align: right;\">\n",
       "      <th></th>\n",
       "      <th>Season</th>\n",
       "      <th>Avg_delay</th>\n",
       "      <th>Standard_deviation</th>\n",
       "      <th>Max_delay</th>\n",
       "    </tr>\n",
       "  </thead>\n",
       "  <tbody>\n",
       "    <tr>\n",
       "      <th>0</th>\n",
       "      <td>Autumn</td>\n",
       "      <td>6.918309</td>\n",
       "      <td>34.693812</td>\n",
       "      <td>41.612120</td>\n",
       "    </tr>\n",
       "    <tr>\n",
       "      <th>1</th>\n",
       "      <td>Spring</td>\n",
       "      <td>7.950428</td>\n",
       "      <td>35.322732</td>\n",
       "      <td>43.273160</td>\n",
       "    </tr>\n",
       "    <tr>\n",
       "      <th>2</th>\n",
       "      <td>Summer</td>\n",
       "      <td>12.388899</td>\n",
       "      <td>41.500819</td>\n",
       "      <td>53.889718</td>\n",
       "    </tr>\n",
       "    <tr>\n",
       "      <th>3</th>\n",
       "      <td>Winter</td>\n",
       "      <td>10.892039</td>\n",
       "      <td>38.907755</td>\n",
       "      <td>49.799794</td>\n",
       "    </tr>\n",
       "  </tbody>\n",
       "</table>\n",
       "</div>"
      ],
      "text/plain": [
       "   Season  Avg_delay  Standard_deviation  Max_delay\n",
       "0  Autumn   6.918309           34.693812  41.612120\n",
       "1  Spring   7.950428           35.322732  43.273160\n",
       "2  Summer  12.388899           41.500819  53.889718\n",
       "3  Winter  10.892039           38.907755  49.799794"
      ]
     },
     "execution_count": 29,
     "metadata": {},
     "output_type": "execute_result"
    }
   ],
   "source": [
    "#checking the seasonal delays\n",
    "seasonal_delays.head()"
   ]
  },
  {
   "cell_type": "code",
   "execution_count": 30,
   "id": "c8d15c43",
   "metadata": {},
   "outputs": [],
   "source": [
    "#rearranging the seasons\n",
    "seasonal_delays = seasonal_delays.reindex([1, 2, 0, 3])"
   ]
  },
  {
   "cell_type": "code",
   "execution_count": 31,
   "id": "130f2ce5",
   "metadata": {},
   "outputs": [
    {
     "data": {
      "text/plain": [
       "Summer    1504062\n",
       "Autumn    1460459\n",
       "Spring    1455009\n",
       "Winter    1331316\n",
       "Name: Season, dtype: int64"
      ]
     },
     "execution_count": 31,
     "metadata": {},
     "output_type": "execute_result"
    }
   ],
   "source": [
    "#getting the number of flights in each 2 hour time slot\n",
    "q1['Season'].value_counts()"
   ]
  },
  {
   "cell_type": "code",
   "execution_count": 32,
   "id": "812d7a07",
   "metadata": {},
   "outputs": [
    {
     "data": {
      "image/png": "[encoded data removed]",
      "text/plain": [
       "<Figure size 1152x576 with 1 Axes>"
      ]
     },
     "metadata": {
      "needs_background": "light"
     },
     "output_type": "display_data"
    }
   ],
   "source": [
    "#plotting a barplot to visualise the average delay per season\n",
    "fig, ax = plt.subplots(1, 1, figsize = (16, 8))\n",
    "\n",
    "sns.barplot(x= 'Season', y = 'Avg_delay', data = seasonal_delays, color = my_palette[0])\n",
    "plt.grid(color= my_palette[2], linestyle='--',linewidth=2, axis='y', alpha=0.4)\n",
    "ax.set_ylabel('Delay (in minutes)', size = 15, labelpad = 15)\n",
    "ax.set_xlabel('Season', size = 15, labelpad = 20)\n",
    "ax.set_title('Average delay per Season', size = 18, pad = 15)\n",
    "\n",
    "ax.tick_params(axis='y', labelsize=13)\n",
    "ax.tick_params(axis='x', labelsize=13, pad = 10)\n",
    "\n",
    "ax.spines[\"right\"].set_visible(False)\n",
    "ax.spines[\"top\"].set_visible(False)\n",
    "\n",
    "plt.savefig(\"Delay per season.png\", bbox_inches = 'tight')\n",
    "plt.show()"
   ]
  },
  {
   "cell_type": "code",
   "execution_count": 33,
   "id": "645e64ac",
   "metadata": {},
   "outputs": [
    {
     "data": {
      "image/png": "[encoded data removed]",
      "text/plain": [
       "<Figure size 1152x576 with 1 Axes>"
      ]
     },
     "metadata": {
      "needs_background": "light"
     },
     "output_type": "display_data"
    }
   ],
   "source": [
    "#plotting a barplot to visualise the maximum delay per season within 1 standard deviation above the mean\n",
    "fig, ax = plt.subplots(1, 1, figsize = (16, 8))\n",
    "\n",
    "sns.barplot(x= 'Season', y = 'Max_delay', data = seasonal_delays, color = my_palette[0])\n",
    "plt.grid(color= my_palette[2], linestyle='--',linewidth=2, axis='y', alpha=0.4)\n",
    "ax.set_ylabel('Delay (in minutes)', size = 15, labelpad = 15)\n",
    "ax.set_xlabel('Season', size = 15, labelpad = 20)\n",
    "ax.set_title('Max delay per Season within one standard deviation above the mean', size = 18, pad = 15)\n",
    "\n",
    "ax.tick_params(axis='y', labelsize=13)\n",
    "ax.tick_params(axis='x', labelsize=13, pad = 10)\n",
    "\n",
    "ax.spines[\"right\"].set_visible(False)\n",
    "ax.spines[\"top\"].set_visible(False)\n",
    "\n",
    "plt.savefig(\"Max delay per season.png\", bbox_inches = 'tight')\n",
    "plt.show()"
   ]
  },
  {
   "cell_type": "code",
   "execution_count": 34,
   "id": "899c7949",
   "metadata": {},
   "outputs": [],
   "source": [
    "#Autumn is the season in which passengers are most likely to minimize their delays."
   ]
  }
 ],
 "metadata": {
  "kernelspec": {
   "display_name": "Python 3 (ipykernel)",
   "language": "python",
   "name": "python3"
  },
  "language_info": {
   "codemirror_mode": {
    "name": "ipython",
    "version": 3
   },
   "file_extension": ".py",
   "mimetype": "text/x-python",
   "name": "python",
   "nbconvert_exporter": "python",
   "pygments_lexer": "ipython3",
   "version": "3.9.12"
  }
 },
 "nbformat": 4,
 "nbformat_minor": 5
}

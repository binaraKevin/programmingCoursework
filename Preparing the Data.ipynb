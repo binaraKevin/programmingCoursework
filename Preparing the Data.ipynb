{
 "cells": [
  {
   "cell_type": "code",
   "execution_count": 1,
   "id": "79a165fd",
   "metadata": {},
   "outputs": [],
   "source": [
    "#importing necessary libraries\n",
    "import pandas as pd\n",
    "import numpy as np"
   ]
  },
  {
   "cell_type": "markdown",
   "id": "4375bb50",
   "metadata": {},
   "source": [
    "### Loading, merging and cleaning the 2006 and 2007 datasets"
   ]
  },
  {
   "cell_type": "code",
   "execution_count": 2,
   "id": "a5128307",
   "metadata": {},
   "outputs": [],
   "source": [
    "#loading 2006 and 2007 CSV files\n",
    "df_2006 = pd.read_csv('2006.csv')\n",
    "df_2007 = pd.read_csv('2007.csv')"
   ]
  },
  {
   "cell_type": "code",
   "execution_count": 3,
   "id": "64da6bd4",
   "metadata": {},
   "outputs": [],
   "source": [
    "#merging the 2006 and 2007 dataframes together:\n",
    "merged_df = pd.concat([df_2006, df_2007], ignore_index=True)"
   ]
  },
  {
   "cell_type": "code",
   "execution_count": 4,
   "id": "f7c6538a",
   "metadata": {},
   "outputs": [
    {
     "data": {
      "text/plain": [
       "(14595137, 29)"
      ]
     },
     "execution_count": 4,
     "metadata": {},
     "output_type": "execute_result"
    }
   ],
   "source": [
    "#checking the number of rows and columns of the dataframe\n",
    "merged_df.shape"
   ]
  },
  {
   "cell_type": "code",
   "execution_count": 5,
   "id": "d46e667a",
   "metadata": {},
   "outputs": [],
   "source": [
    "#setting pandas to show all columns of the dataframe without truncation\n",
    "pd.set_option('display.max_columns', None)"
   ]
  },
  {
   "cell_type": "code",
   "execution_count": 6,
   "id": "2c9227e0",
   "metadata": {},
   "outputs": [
    {
     "name": "stdout",
     "output_type": "stream",
     "text": [
      "<class 'pandas.core.frame.DataFrame'>\n",
      "RangeIndex: 14595137 entries, 0 to 14595136\n",
      "Data columns (total 29 columns):\n",
      " #   Column             Dtype  \n",
      "---  ------             -----  \n",
      " 0   Year               int64  \n",
      " 1   Month              int64  \n",
      " 2   DayofMonth         int64  \n",
      " 3   DayOfWeek          int64  \n",
      " 4   DepTime            float64\n",
      " 5   CRSDepTime         int64  \n",
      " 6   ArrTime            float64\n",
      " 7   CRSArrTime         int64  \n",
      " 8   UniqueCarrier      object \n",
      " 9   FlightNum          int64  \n",
      " 10  TailNum            object \n",
      " 11  ActualElapsedTime  float64\n",
      " 12  CRSElapsedTime     float64\n",
      " 13  AirTime            float64\n",
      " 14  ArrDelay           float64\n",
      " 15  DepDelay           float64\n",
      " 16  Origin             object \n",
      " 17  Dest               object \n",
      " 18  Distance           int64  \n",
      " 19  TaxiIn             int64  \n",
      " 20  TaxiOut            int64  \n",
      " 21  Cancelled          int64  \n",
      " 22  CancellationCode   object \n",
      " 23  Diverted           int64  \n",
      " 24  CarrierDelay       int64  \n",
      " 25  WeatherDelay       int64  \n",
      " 26  NASDelay           int64  \n",
      " 27  SecurityDelay      int64  \n",
      " 28  LateAircraftDelay  int64  \n",
      "dtypes: float64(7), int64(17), object(5)\n",
      "memory usage: 3.2+ GB\n"
     ]
    }
   ],
   "source": [
    "#checking the data types of each column\n",
    "merged_df.info()"
   ]
  },
  {
   "cell_type": "code",
   "execution_count": 7,
   "id": "06e8625a",
   "metadata": {},
   "outputs": [
    {
     "data": {
      "text/plain": [
       "Year                        0\n",
       "Month                       0\n",
       "DayofMonth                  0\n",
       "DayOfWeek                   0\n",
       "DepTime                282682\n",
       "CRSDepTime                  0\n",
       "ArrTime                316047\n",
       "CRSArrTime                  0\n",
       "UniqueCarrier               0\n",
       "FlightNum                   0\n",
       "TailNum                    22\n",
       "ActualElapsedTime      316047\n",
       "CRSElapsedTime            998\n",
       "AirTime                316047\n",
       "ArrDelay               316047\n",
       "DepDelay               282682\n",
       "Origin                      0\n",
       "Dest                        0\n",
       "Distance                    0\n",
       "TaxiIn                      0\n",
       "TaxiOut                     0\n",
       "Cancelled                   0\n",
       "CancellationCode     14312454\n",
       "Diverted                    0\n",
       "CarrierDelay                0\n",
       "WeatherDelay                0\n",
       "NASDelay                    0\n",
       "SecurityDelay               0\n",
       "LateAircraftDelay           0\n",
       "dtype: int64"
      ]
     },
     "execution_count": 7,
     "metadata": {},
     "output_type": "execute_result"
    }
   ],
   "source": [
    "#checking the number of null values in each column\n",
    "merged_df.isnull().sum()"
   ]
  },
  {
   "cell_type": "code",
   "execution_count": 8,
   "id": "ae616dcf",
   "metadata": {},
   "outputs": [],
   "source": [
    "#dropping the CancellationCode column as 98% of the column contains null values\n",
    "merged_df = merged_df.drop(\"CancellationCode\", axis='columns')"
   ]
  },
  {
   "cell_type": "code",
   "execution_count": 9,
   "id": "5ad0ec2a",
   "metadata": {},
   "outputs": [
    {
     "data": {
      "text/plain": [
       "34"
      ]
     },
     "execution_count": 9,
     "metadata": {},
     "output_type": "execute_result"
    }
   ],
   "source": [
    "#checking for duplicate values\n",
    "merged_df.duplicated().sum()"
   ]
  },
  {
   "cell_type": "code",
   "execution_count": 10,
   "id": "ea49acd8",
   "metadata": {},
   "outputs": [],
   "source": [
    "#removing the duplicate values\n",
    "merged_df.drop_duplicates(inplace = True)"
   ]
  },
  {
   "cell_type": "code",
   "execution_count": 11,
   "id": "5c0b934a",
   "metadata": {},
   "outputs": [
    {
     "data": {
      "text/plain": [
       "0.0"
      ]
     },
     "execution_count": 11,
     "metadata": {},
     "output_type": "execute_result"
    }
   ],
   "source": [
    "#checking the arrival delays of cancelled and diverted flights\n",
    "cancelled_diverted = merged_df.loc[merged_df['Cancelled'] == 1]\n",
    "cancelled_diverted = merged_df.loc[merged_df['Diverted'] == 1]\n",
    "\n",
    "cancelled_diverted['ArrDelay'].sum()"
   ]
  },
  {
   "cell_type": "code",
   "execution_count": 12,
   "id": "d165333b",
   "metadata": {},
   "outputs": [
    {
     "data": {
      "text/plain": [
       "282682"
      ]
     },
     "execution_count": 12,
     "metadata": {},
     "output_type": "execute_result"
    }
   ],
   "source": [
    "#checking the number of cancelled flights\n",
    "merged_df[\"Cancelled\"].sum()"
   ]
  },
  {
   "cell_type": "code",
   "execution_count": 13,
   "id": "5b72c8d4",
   "metadata": {},
   "outputs": [
    {
     "data": {
      "text/plain": [
       "33364"
      ]
     },
     "execution_count": 13,
     "metadata": {},
     "output_type": "execute_result"
    }
   ],
   "source": [
    "#checking the number of diverted flights\n",
    "merged_df[\"Diverted\"].sum()"
   ]
  },
  {
   "cell_type": "code",
   "execution_count": 14,
   "id": "2d2d1857",
   "metadata": {},
   "outputs": [
    {
     "name": "stdout",
     "output_type": "stream",
     "text": [
      "0 0\n"
     ]
    }
   ],
   "source": [
    "#dropping the rows of flights that were either cancelled or diverted\n",
    "merged_df = merged_df.loc[merged_df['Cancelled'] == 0]\n",
    "merged_df = merged_df.loc[merged_df['Diverted'] == 0]\n",
    "cancelled = merged_df[\"Cancelled\"].sum()\n",
    "diverted = merged_df[\"Diverted\"].sum()\n",
    "print(cancelled, diverted)"
   ]
  },
  {
   "cell_type": "code",
   "execution_count": 15,
   "id": "3471c715",
   "metadata": {},
   "outputs": [],
   "source": [
    "#dropping the Cancelled and Diverted columns, as all Cancelled and Diverted flights have been removed\n",
    "merged_df = merged_df.drop(\"Cancelled\", axis='columns')\n",
    "merged_df = merged_df.drop(\"Diverted\", axis='columns')"
   ]
  },
  {
   "cell_type": "code",
   "execution_count": 16,
   "id": "cb3b8e55",
   "metadata": {},
   "outputs": [
    {
     "data": {
      "text/plain": [
       "Year                 2007.0\n",
       "Month                  12.0\n",
       "DayofMonth             31.0\n",
       "DayOfWeek               7.0\n",
       "DepTime              2930.0\n",
       "CRSDepTime           2359.0\n",
       "ArrTime              2955.0\n",
       "CRSArrTime           2359.0\n",
       "FlightNum            9619.0\n",
       "ActualElapsedTime    1879.0\n",
       "CRSElapsedTime        660.0\n",
       "AirTime              1958.0\n",
       "ArrDelay             2598.0\n",
       "DepDelay             2601.0\n",
       "Distance             4962.0\n",
       "TaxiIn               1501.0\n",
       "TaxiOut               602.0\n",
       "CarrierDelay         2580.0\n",
       "WeatherDelay         1429.0\n",
       "NASDelay             1392.0\n",
       "SecurityDelay         382.0\n",
       "LateAircraftDelay    1366.0\n",
       "dtype: float64"
      ]
     },
     "execution_count": 16,
     "metadata": {},
     "output_type": "execute_result"
    }
   ],
   "source": [
    "#checking the max values of all numeric columns\n",
    "merged_df.max(numeric_only=True)"
   ]
  },
  {
   "cell_type": "code",
   "execution_count": 17,
   "id": "aed0536e",
   "metadata": {},
   "outputs": [
    {
     "data": {
      "text/plain": [
       "Year                 2006.0\n",
       "Month                   1.0\n",
       "DayofMonth              1.0\n",
       "DayOfWeek               1.0\n",
       "DepTime                 1.0\n",
       "CRSDepTime              1.0\n",
       "ArrTime                 1.0\n",
       "CRSArrTime              0.0\n",
       "FlightNum               1.0\n",
       "ActualElapsedTime       5.0\n",
       "CRSElapsedTime        -25.0\n",
       "AirTime             -1425.0\n",
       "ArrDelay             -592.0\n",
       "DepDelay            -1200.0\n",
       "Distance               11.0\n",
       "TaxiIn                  0.0\n",
       "TaxiOut                 0.0\n",
       "CarrierDelay            0.0\n",
       "WeatherDelay            0.0\n",
       "NASDelay                0.0\n",
       "SecurityDelay           0.0\n",
       "LateAircraftDelay       0.0\n",
       "dtype: float64"
      ]
     },
     "execution_count": 17,
     "metadata": {},
     "output_type": "execute_result"
    }
   ],
   "source": [
    "#Checking the minimum values of all numeric columns\n",
    "merged_df.min(numeric_only=True)"
   ]
  },
  {
   "cell_type": "markdown",
   "id": "370d1410",
   "metadata": {},
   "source": [
    "#### Cleaning the 24 hour format time columns"
   ]
  },
  {
   "cell_type": "markdown",
   "id": "a572382a",
   "metadata": {},
   "source": [
    "It is revealed that some of the time values exceed the 24 hour format limit.\n",
    "\n",
    "It is also observed that the CRSElapsedTime and AirTime have taken on some negative values, which is not possible as both columns do not show any time savings, only time spent."
   ]
  },
  {
   "cell_type": "code",
   "execution_count": 18,
   "id": "2066d336",
   "metadata": {},
   "outputs": [],
   "source": [
    "#converting the columns with intergers(hhmm) to time objects, to get rid of invalid time values\n",
    "merged_df['DepTime'] = pd.to_datetime(merged_df['DepTime'], format='%H%M', errors='coerce').dt.strftime('%H:%M')\n",
    "merged_df['CRSDepTime'] = pd.to_datetime(merged_df['CRSDepTime'], format='%H%M', errors='coerce').dt.strftime('%H:%M')\n",
    "merged_df['ArrTime'] = pd.to_datetime(merged_df['ArrTime'], format='%H%M', errors='coerce').dt.strftime('%H:%M')\n",
    "merged_df['CRSArrTime'] = pd.to_datetime(merged_df['CRSArrTime'], format='%H%M', errors='coerce').dt.strftime('%H:%M')"
   ]
  },
  {
   "cell_type": "code",
   "execution_count": 19,
   "id": "c96f82b4",
   "metadata": {},
   "outputs": [
    {
     "data": {
      "text/plain": [
       "Year                     0\n",
       "Month                    0\n",
       "DayofMonth               0\n",
       "DayOfWeek                0\n",
       "DepTime              11733\n",
       "CRSDepTime             242\n",
       "ArrTime              49375\n",
       "CRSArrTime           19117\n",
       "UniqueCarrier            0\n",
       "FlightNum                0\n",
       "TailNum                  0\n",
       "ActualElapsedTime        0\n",
       "CRSElapsedTime           0\n",
       "AirTime                  0\n",
       "ArrDelay                 0\n",
       "DepDelay                 0\n",
       "Origin                   0\n",
       "Dest                     0\n",
       "Distance                 0\n",
       "TaxiIn                   0\n",
       "TaxiOut                  0\n",
       "CarrierDelay             0\n",
       "WeatherDelay             0\n",
       "NASDelay                 0\n",
       "SecurityDelay            0\n",
       "LateAircraftDelay        0\n",
       "dtype: int64"
      ]
     },
     "execution_count": 19,
     "metadata": {},
     "output_type": "execute_result"
    }
   ],
   "source": [
    "#checking for remaining null values\n",
    "merged_df.isnull().sum()"
   ]
  },
  {
   "cell_type": "code",
   "execution_count": 20,
   "id": "a33b33a8",
   "metadata": {},
   "outputs": [],
   "source": [
    "#dropping all remaining null values\n",
    "merged_df.dropna(inplace=True)"
   ]
  },
  {
   "cell_type": "code",
   "execution_count": 21,
   "id": "6b3f587f",
   "metadata": {},
   "outputs": [
    {
     "name": "stdout",
     "output_type": "stream",
     "text": [
      "<class 'pandas.core.frame.DataFrame'>\n",
      "Int64Index: 14203515 entries, 0 to 14595136\n",
      "Data columns (total 26 columns):\n",
      " #   Column             Dtype  \n",
      "---  ------             -----  \n",
      " 0   Year               int64  \n",
      " 1   Month              int64  \n",
      " 2   DayofMonth         int64  \n",
      " 3   DayOfWeek          int64  \n",
      " 4   DepTime            object \n",
      " 5   CRSDepTime         object \n",
      " 6   ArrTime            object \n",
      " 7   CRSArrTime         object \n",
      " 8   UniqueCarrier      object \n",
      " 9   FlightNum          int64  \n",
      " 10  TailNum            object \n",
      " 11  ActualElapsedTime  float64\n",
      " 12  CRSElapsedTime     float64\n",
      " 13  AirTime            float64\n",
      " 14  ArrDelay           float64\n",
      " 15  DepDelay           float64\n",
      " 16  Origin             object \n",
      " 17  Dest               object \n",
      " 18  Distance           int64  \n",
      " 19  TaxiIn             int64  \n",
      " 20  TaxiOut            int64  \n",
      " 21  CarrierDelay       int64  \n",
      " 22  WeatherDelay       int64  \n",
      " 23  NASDelay           int64  \n",
      " 24  SecurityDelay      int64  \n",
      " 25  LateAircraftDelay  int64  \n",
      "dtypes: float64(5), int64(13), object(8)\n",
      "memory usage: 2.9+ GB\n"
     ]
    }
   ],
   "source": [
    "#checking the data types of the columns\n",
    "merged_df.info()"
   ]
  },
  {
   "cell_type": "code",
   "execution_count": 22,
   "id": "8b1afe8f",
   "metadata": {},
   "outputs": [],
   "source": [
    "#converting the HH:MM columns back to integers\n",
    "merged_df['DepTime'] = merged_df['DepTime'].str.replace(':', '').astype(int)\n",
    "merged_df['CRSDepTime'] = merged_df['CRSDepTime'].str.replace(':', '').astype(int)\n",
    "merged_df['ArrTime'] = merged_df['ArrTime'].str.replace(':', '').astype(int)\n",
    "merged_df['CRSArrTime'] = merged_df['CRSArrTime'].str.replace(':', '').astype(int)"
   ]
  },
  {
   "cell_type": "code",
   "execution_count": 23,
   "id": "a263ff44",
   "metadata": {},
   "outputs": [],
   "source": [
    "#keeping only the positive values of CSRElapsedTime and AirTime columns\n",
    "merged_df = merged_df[merged_df['CRSElapsedTime'] >= 0]\n",
    "merged_df = merged_df[merged_df['AirTime'] >= 0]"
   ]
  },
  {
   "cell_type": "code",
   "execution_count": 24,
   "id": "adfe8100",
   "metadata": {},
   "outputs": [
    {
     "name": "stdout",
     "output_type": "stream",
     "text": [
      "<class 'pandas.core.frame.DataFrame'>\n",
      "Int64Index: 14203514 entries, 0 to 14595136\n",
      "Data columns (total 26 columns):\n",
      " #   Column             Dtype  \n",
      "---  ------             -----  \n",
      " 0   Year               int64  \n",
      " 1   Month              int64  \n",
      " 2   DayofMonth         int64  \n",
      " 3   DayOfWeek          int64  \n",
      " 4   DepTime            int64  \n",
      " 5   CRSDepTime         int64  \n",
      " 6   ArrTime            int64  \n",
      " 7   CRSArrTime         int64  \n",
      " 8   UniqueCarrier      object \n",
      " 9   FlightNum          int64  \n",
      " 10  TailNum            object \n",
      " 11  ActualElapsedTime  float64\n",
      " 12  CRSElapsedTime     float64\n",
      " 13  AirTime            float64\n",
      " 14  ArrDelay           float64\n",
      " 15  DepDelay           float64\n",
      " 16  Origin             object \n",
      " 17  Dest               object \n",
      " 18  Distance           int64  \n",
      " 19  TaxiIn             int64  \n",
      " 20  TaxiOut            int64  \n",
      " 21  CarrierDelay       int64  \n",
      " 22  WeatherDelay       int64  \n",
      " 23  NASDelay           int64  \n",
      " 24  SecurityDelay      int64  \n",
      " 25  LateAircraftDelay  int64  \n",
      "dtypes: float64(5), int64(17), object(4)\n",
      "memory usage: 2.9+ GB\n"
     ]
    }
   ],
   "source": [
    "#checking the data types of the columns\n",
    "merged_df.info()"
   ]
  },
  {
   "cell_type": "code",
   "execution_count": 25,
   "id": "9a17077e",
   "metadata": {},
   "outputs": [
    {
     "name": "stdout",
     "output_type": "stream",
     "text": [
      "(14203514, 26)\n",
      "Int64Index([       0,        1,        2,        3,        4,        5,\n",
      "                   6,        7,        8,        9,\n",
      "            ...\n",
      "            14595127, 14595128, 14595129, 14595130, 14595131, 14595132,\n",
      "            14595133, 14595134, 14595135, 14595136],\n",
      "           dtype='int64', length=14203514)\n"
     ]
    }
   ],
   "source": [
    "#checking the shape of the dataframe against the index of the data frame\n",
    "print(merged_df.shape)\n",
    "print(merged_df.index)"
   ]
  },
  {
   "cell_type": "code",
   "execution_count": 26,
   "id": "9a25fcfa",
   "metadata": {},
   "outputs": [],
   "source": [
    "#resetting the index of the dataframe\n",
    "merged_df = merged_df.reset_index(drop=True)"
   ]
  },
  {
   "cell_type": "markdown",
   "id": "e8631119",
   "metadata": {},
   "source": [
    "### Preprocessing for the questions"
   ]
  },
  {
   "cell_type": "markdown",
   "id": "d1b3faa1",
   "metadata": {},
   "source": [
    "#### Creating 'Time_bin' column"
   ]
  },
  {
   "cell_type": "code",
   "execution_count": 27,
   "id": "c3ddbe12",
   "metadata": {},
   "outputs": [],
   "source": [
    "#binning the hours of the day into 2 hour time slots for question 1\n",
    "def categorise(row):  \n",
    "    if row['CRSDepTime'] >= 0 and row['CRSDepTime'] <= 159:\n",
    "        return '12am - 2am'\n",
    "    elif row['CRSDepTime'] >= 200 and row['CRSDepTime'] <= 359:\n",
    "        return '2am - 4am'\n",
    "    elif row['CRSDepTime'] >= 400  and row['CRSDepTime'] <= 559:\n",
    "        return '4am - 6am'\n",
    "    elif row['CRSDepTime'] >= 600 and row['CRSDepTime'] <= 759:\n",
    "        return '6am - 8am'\n",
    "    elif row['CRSDepTime'] >= 800  and row['CRSDepTime'] <= 959:\n",
    "        return '8am - 10am'\n",
    "    elif row['CRSDepTime'] >= 1000 and row['CRSDepTime'] <= 1159:\n",
    "        return '10am - 12pm'\n",
    "    elif row['CRSDepTime'] >= 1200  and row['CRSDepTime'] <= 1359:\n",
    "        return '12pm - 2pm'\n",
    "    elif row['CRSDepTime'] >= 1400 and row['CRSDepTime'] <= 1559:\n",
    "        return '2pm - 4pm'\n",
    "    elif row['CRSDepTime'] >= 1600  and row['CRSDepTime'] <= 1759:\n",
    "        return '4pm - 6pm'\n",
    "    elif row['CRSDepTime'] >= 1800 and row['CRSDepTime'] <= 1959:\n",
    "        return '6pm - 8pm'\n",
    "    elif row['CRSDepTime'] >= 2000  and row['CRSDepTime'] <= 2159:\n",
    "        return '8pm - 10pm'\n",
    "    elif row['CRSDepTime'] >= 2200 and row['CRSDepTime'] <= 2359:\n",
    "        return '10pm - 12am'\n",
    "\n",
    "merged_df['Time_bin'] = merged_df.apply(lambda row: categorise(row), axis=1)"
   ]
  },
  {
   "cell_type": "markdown",
   "id": "93510726",
   "metadata": {},
   "source": [
    "#### Merging supplementary planes data set with main dataset"
   ]
  },
  {
   "cell_type": "code",
   "execution_count": 28,
   "id": "79688b2d",
   "metadata": {},
   "outputs": [],
   "source": [
    "#importing the planes dataset\n",
    "planes_df = pd.read_csv(\"plane-data.csv\")"
   ]
  },
  {
   "cell_type": "code",
   "execution_count": 29,
   "id": "154782d5",
   "metadata": {},
   "outputs": [
    {
     "data": {
      "text/html": [
       "<div>\n",
       "<style scoped>\n",
       "    .dataframe tbody tr th:only-of-type {\n",
       "        vertical-align: middle;\n",
       "    }\n",
       "\n",
       "    .dataframe tbody tr th {\n",
       "        vertical-align: top;\n",
       "    }\n",
       "\n",
       "    .dataframe thead th {\n",
       "        text-align: right;\n",
       "    }\n",
       "</style>\n",
       "<table border=\"1\" class=\"dataframe\">\n",
       "  <thead>\n",
       "    <tr style=\"text-align: right;\">\n",
       "      <th></th>\n",
       "      <th>tailnum</th>\n",
       "      <th>type</th>\n",
       "      <th>manufacturer</th>\n",
       "      <th>issue_date</th>\n",
       "      <th>model</th>\n",
       "      <th>status</th>\n",
       "      <th>aircraft_type</th>\n",
       "      <th>engine_type</th>\n",
       "      <th>year</th>\n",
       "    </tr>\n",
       "  </thead>\n",
       "  <tbody>\n",
       "    <tr>\n",
       "      <th>0</th>\n",
       "      <td>N050AA</td>\n",
       "      <td>NaN</td>\n",
       "      <td>NaN</td>\n",
       "      <td>NaN</td>\n",
       "      <td>NaN</td>\n",
       "      <td>NaN</td>\n",
       "      <td>NaN</td>\n",
       "      <td>NaN</td>\n",
       "      <td>NaN</td>\n",
       "    </tr>\n",
       "    <tr>\n",
       "      <th>1</th>\n",
       "      <td>N051AA</td>\n",
       "      <td>NaN</td>\n",
       "      <td>NaN</td>\n",
       "      <td>NaN</td>\n",
       "      <td>NaN</td>\n",
       "      <td>NaN</td>\n",
       "      <td>NaN</td>\n",
       "      <td>NaN</td>\n",
       "      <td>NaN</td>\n",
       "    </tr>\n",
       "    <tr>\n",
       "      <th>2</th>\n",
       "      <td>N052AA</td>\n",
       "      <td>NaN</td>\n",
       "      <td>NaN</td>\n",
       "      <td>NaN</td>\n",
       "      <td>NaN</td>\n",
       "      <td>NaN</td>\n",
       "      <td>NaN</td>\n",
       "      <td>NaN</td>\n",
       "      <td>NaN</td>\n",
       "    </tr>\n",
       "    <tr>\n",
       "      <th>3</th>\n",
       "      <td>N054AA</td>\n",
       "      <td>NaN</td>\n",
       "      <td>NaN</td>\n",
       "      <td>NaN</td>\n",
       "      <td>NaN</td>\n",
       "      <td>NaN</td>\n",
       "      <td>NaN</td>\n",
       "      <td>NaN</td>\n",
       "      <td>NaN</td>\n",
       "    </tr>\n",
       "    <tr>\n",
       "      <th>4</th>\n",
       "      <td>N055AA</td>\n",
       "      <td>NaN</td>\n",
       "      <td>NaN</td>\n",
       "      <td>NaN</td>\n",
       "      <td>NaN</td>\n",
       "      <td>NaN</td>\n",
       "      <td>NaN</td>\n",
       "      <td>NaN</td>\n",
       "      <td>NaN</td>\n",
       "    </tr>\n",
       "  </tbody>\n",
       "</table>\n",
       "</div>"
      ],
      "text/plain": [
       "  tailnum type manufacturer issue_date model status aircraft_type engine_type  \\\n",
       "0  N050AA  NaN          NaN        NaN   NaN    NaN           NaN         NaN   \n",
       "1  N051AA  NaN          NaN        NaN   NaN    NaN           NaN         NaN   \n",
       "2  N052AA  NaN          NaN        NaN   NaN    NaN           NaN         NaN   \n",
       "3  N054AA  NaN          NaN        NaN   NaN    NaN           NaN         NaN   \n",
       "4  N055AA  NaN          NaN        NaN   NaN    NaN           NaN         NaN   \n",
       "\n",
       "  year  \n",
       "0  NaN  \n",
       "1  NaN  \n",
       "2  NaN  \n",
       "3  NaN  \n",
       "4  NaN  "
      ]
     },
     "execution_count": 29,
     "metadata": {},
     "output_type": "execute_result"
    }
   ],
   "source": [
    "#checking the the planes dataset\n",
    "planes_df.head()"
   ]
  },
  {
   "cell_type": "code",
   "execution_count": 30,
   "id": "dccbd0c9",
   "metadata": {},
   "outputs": [
    {
     "data": {
      "text/html": [
       "<div>\n",
       "<style scoped>\n",
       "    .dataframe tbody tr th:only-of-type {\n",
       "        vertical-align: middle;\n",
       "    }\n",
       "\n",
       "    .dataframe tbody tr th {\n",
       "        vertical-align: top;\n",
       "    }\n",
       "\n",
       "    .dataframe thead th {\n",
       "        text-align: right;\n",
       "    }\n",
       "</style>\n",
       "<table border=\"1\" class=\"dataframe\">\n",
       "  <thead>\n",
       "    <tr style=\"text-align: right;\">\n",
       "      <th></th>\n",
       "      <th>TailNum</th>\n",
       "      <th>Manufactured_year</th>\n",
       "    </tr>\n",
       "  </thead>\n",
       "  <tbody>\n",
       "    <tr>\n",
       "      <th>0</th>\n",
       "      <td>N050AA</td>\n",
       "      <td>NaN</td>\n",
       "    </tr>\n",
       "    <tr>\n",
       "      <th>1</th>\n",
       "      <td>N051AA</td>\n",
       "      <td>NaN</td>\n",
       "    </tr>\n",
       "    <tr>\n",
       "      <th>2</th>\n",
       "      <td>N052AA</td>\n",
       "      <td>NaN</td>\n",
       "    </tr>\n",
       "    <tr>\n",
       "      <th>3</th>\n",
       "      <td>N054AA</td>\n",
       "      <td>NaN</td>\n",
       "    </tr>\n",
       "    <tr>\n",
       "      <th>4</th>\n",
       "      <td>N055AA</td>\n",
       "      <td>NaN</td>\n",
       "    </tr>\n",
       "  </tbody>\n",
       "</table>\n",
       "</div>"
      ],
      "text/plain": [
       "  TailNum Manufactured_year\n",
       "0  N050AA               NaN\n",
       "1  N051AA               NaN\n",
       "2  N052AA               NaN\n",
       "3  N054AA               NaN\n",
       "4  N055AA               NaN"
      ]
     },
     "execution_count": 30,
     "metadata": {},
     "output_type": "execute_result"
    }
   ],
   "source": [
    "#renaming and keeping the necessary columns of the planes dataset to prepare it for merging with the main dataset\n",
    "cleaned_planes_df = planes_df.rename({'tailnum':'TailNum', 'year': 'Manufactured_year'},axis ='columns', inplace=True)\n",
    "cleaned_planes_df = planes_df.iloc[:, np.array([0,8])]\n",
    "cleaned_planes_df.head()"
   ]
  },
  {
   "cell_type": "code",
   "execution_count": 31,
   "id": "4487044a",
   "metadata": {},
   "outputs": [
    {
     "name": "stdout",
     "output_type": "stream",
     "text": [
      "<class 'pandas.core.frame.DataFrame'>\n",
      "RangeIndex: 5029 entries, 0 to 5028\n",
      "Data columns (total 2 columns):\n",
      " #   Column             Non-Null Count  Dtype \n",
      "---  ------             --------------  ----- \n",
      " 0   TailNum            5029 non-null   object\n",
      " 1   Manufactured_year  4480 non-null   object\n",
      "dtypes: object(2)\n",
      "memory usage: 78.7+ KB\n"
     ]
    }
   ],
   "source": [
    "#checking the data types of the cleaned_planes dataframe columns\n",
    "cleaned_planes_df.info()"
   ]
  },
  {
   "cell_type": "code",
   "execution_count": 32,
   "id": "7ef5e1a2",
   "metadata": {},
   "outputs": [
    {
     "data": {
      "text/plain": [
       "0          NaN\n",
       "1          NaN\n",
       "2          NaN\n",
       "3          NaN\n",
       "4          NaN\n",
       "         ...  \n",
       "5024    1992.0\n",
       "5025    2002.0\n",
       "5026    1992.0\n",
       "5027    1998.0\n",
       "5028    1992.0\n",
       "Name: Manufactured_year, Length: 5029, dtype: float64"
      ]
     },
     "execution_count": 32,
     "metadata": {},
     "output_type": "execute_result"
    }
   ],
   "source": [
    "#forcing the Manufactured_Year column to numeric values\n",
    "pd.to_numeric(cleaned_planes_df['Manufactured_year'],errors='coerce')"
   ]
  },
  {
   "cell_type": "code",
   "execution_count": 33,
   "id": "2f0ac16e",
   "metadata": {},
   "outputs": [
    {
     "data": {
      "text/plain": [
       "TailNum                0\n",
       "Manufactured_year    549\n",
       "dtype: int64"
      ]
     },
     "execution_count": 33,
     "metadata": {},
     "output_type": "execute_result"
    }
   ],
   "source": [
    "#checking for null values\n",
    "cleaned_planes_df.isnull().sum()"
   ]
  },
  {
   "cell_type": "code",
   "execution_count": 34,
   "id": "f0ca0e6b",
   "metadata": {},
   "outputs": [],
   "source": [
    "#dropping the null values\n",
    "cleaned_planes_df = cleaned_planes_df.dropna()"
   ]
  },
  {
   "cell_type": "code",
   "execution_count": 35,
   "id": "c20a68c9",
   "metadata": {},
   "outputs": [
    {
     "name": "stdout",
     "output_type": "stream",
     "text": [
      "<class 'pandas.core.frame.DataFrame'>\n",
      "Int64Index: 4480 entries, 34 to 5028\n",
      "Data columns (total 2 columns):\n",
      " #   Column             Non-Null Count  Dtype \n",
      "---  ------             --------------  ----- \n",
      " 0   TailNum            4480 non-null   object\n",
      " 1   Manufactured_year  4480 non-null   object\n",
      "dtypes: object(2)\n",
      "memory usage: 105.0+ KB\n"
     ]
    }
   ],
   "source": [
    "#checking the data types and non null counts of cleaned_planes_df\n",
    "cleaned_planes_df.info()"
   ]
  },
  {
   "cell_type": "code",
   "execution_count": 36,
   "id": "b2addfab",
   "metadata": {},
   "outputs": [
    {
     "name": "stdout",
     "output_type": "stream",
     "text": [
      "['0000' '1946' '1956' '1957' '1959' '1962' '1963' '1964' '1965' '1966'\n",
      " '1967' '1968' '1969' '1970' '1971' '1972' '1973' '1974' '1975' '1976'\n",
      " '1977' '1978' '1979' '1980' '1982' '1983' '1984' '1985' '1986' '1987'\n",
      " '1988' '1989' '1990' '1991' '1992' '1993' '1994' '1995' '1996' '1997'\n",
      " '1998' '1999' '2000' '2001' '2002' '2003' '2004' '2005' '2006' '2007'\n",
      " '2008' 'None']\n"
     ]
    }
   ],
   "source": [
    "#checking the unique years in the Manufactured_year column\n",
    "unique_years = cleaned_planes_df['Manufactured_year'].unique()\n",
    "unique_years.sort()\n",
    "print(unique_years)"
   ]
  },
  {
   "cell_type": "code",
   "execution_count": 37,
   "id": "b6e36c60",
   "metadata": {},
   "outputs": [
    {
     "data": {
      "text/plain": [
       "(4295, 2)"
      ]
     },
     "execution_count": 37,
     "metadata": {},
     "output_type": "execute_result"
    }
   ],
   "source": [
    "#getting rid of impossible years of Manufacture for the 2006 and 2007 years of flight datas\n",
    "cleaned_planes_df = cleaned_planes_df[(cleaned_planes_df['Manufactured_year'] != '0000') &\n",
    "                                      (cleaned_planes_df['Manufactured_year'] != '2008') &\n",
    "                                      (cleaned_planes_df['Manufactured_year'] != 'None')]\n",
    "cleaned_planes_df.shape"
   ]
  },
  {
   "cell_type": "code",
   "execution_count": 38,
   "id": "77fa5a9b",
   "metadata": {},
   "outputs": [
    {
     "name": "stdout",
     "output_type": "stream",
     "text": [
      "['1946' '1956' '1957' '1959' '1962' '1963' '1964' '1965' '1966' '1967'\n",
      " '1968' '1969' '1970' '1971' '1972' '1973' '1974' '1975' '1976' '1977'\n",
      " '1978' '1979' '1980' '1982' '1983' '1984' '1985' '1986' '1987' '1988'\n",
      " '1989' '1990' '1991' '1992' '1993' '1994' '1995' '1996' '1997' '1998'\n",
      " '1999' '2000' '2001' '2002' '2003' '2004' '2005' '2006' '2007']\n"
     ]
    }
   ],
   "source": [
    "#rechecking the unique years in Manufactured_Year column\n",
    "newunique_years = cleaned_planes_df['Manufactured_year'].unique()\n",
    "newunique_years.sort()\n",
    "print(newunique_years)"
   ]
  },
  {
   "cell_type": "code",
   "execution_count": 39,
   "id": "f2120f09",
   "metadata": {},
   "outputs": [
    {
     "data": {
      "text/html": [
       "<div>\n",
       "<style scoped>\n",
       "    .dataframe tbody tr th:only-of-type {\n",
       "        vertical-align: middle;\n",
       "    }\n",
       "\n",
       "    .dataframe tbody tr th {\n",
       "        vertical-align: top;\n",
       "    }\n",
       "\n",
       "    .dataframe thead th {\n",
       "        text-align: right;\n",
       "    }\n",
       "</style>\n",
       "<table border=\"1\" class=\"dataframe\">\n",
       "  <thead>\n",
       "    <tr style=\"text-align: right;\">\n",
       "      <th></th>\n",
       "      <th>TailNum</th>\n",
       "      <th>Manufactured_year</th>\n",
       "    </tr>\n",
       "  </thead>\n",
       "  <tbody>\n",
       "    <tr>\n",
       "      <th>0</th>\n",
       "      <td>N10156</td>\n",
       "      <td>2004</td>\n",
       "    </tr>\n",
       "    <tr>\n",
       "      <th>1</th>\n",
       "      <td>N102UW</td>\n",
       "      <td>1998</td>\n",
       "    </tr>\n",
       "    <tr>\n",
       "      <th>2</th>\n",
       "      <td>N10323</td>\n",
       "      <td>1986</td>\n",
       "    </tr>\n",
       "    <tr>\n",
       "      <th>3</th>\n",
       "      <td>N103US</td>\n",
       "      <td>1999</td>\n",
       "    </tr>\n",
       "    <tr>\n",
       "      <th>4</th>\n",
       "      <td>N104UA</td>\n",
       "      <td>1998</td>\n",
       "    </tr>\n",
       "  </tbody>\n",
       "</table>\n",
       "</div>"
      ],
      "text/plain": [
       "  TailNum Manufactured_year\n",
       "0  N10156              2004\n",
       "1  N102UW              1998\n",
       "2  N10323              1986\n",
       "3  N103US              1999\n",
       "4  N104UA              1998"
      ]
     },
     "execution_count": 39,
     "metadata": {},
     "output_type": "execute_result"
    }
   ],
   "source": [
    "#checking the values of TailNum\n",
    "cleaned_planes_df = cleaned_planes_df.reset_index(drop=True)\n",
    "cleaned_planes_df.head()"
   ]
  },
  {
   "cell_type": "code",
   "execution_count": 40,
   "id": "49032bf2",
   "metadata": {},
   "outputs": [
    {
     "data": {
      "text/plain": [
       "(11503500, 28)"
      ]
     },
     "execution_count": 40,
     "metadata": {},
     "output_type": "execute_result"
    }
   ],
   "source": [
    "#merging both dataframes based on TailNum \n",
    "merged_df = pd.merge(merged_df, cleaned_planes_df, how = \"inner\", on = \"TailNum\")\n",
    "merged_df.shape"
   ]
  },
  {
   "cell_type": "markdown",
   "id": "fddfd60f",
   "metadata": {},
   "source": [
    "#### Creating 'Age' column"
   ]
  },
  {
   "cell_type": "code",
   "execution_count": 41,
   "id": "c7a2e6e8",
   "metadata": {},
   "outputs": [
    {
     "data": {
      "text/plain": [
       "array([ 7,  8,  9, 10, 16, 17,  6, 18,  5,  1,  2, 19, 20,  4, 21, 22, 23,\n",
       "       11, 12,  3, 14, 15, 13, 40, 41,  0, 49, 50, 37, 38, 30, 31, 32, 39,\n",
       "       29, 35, 36, 27, 28, 26, 33, 34, 51, -1, 43, 44, 24, 25, 47, 48, 42,\n",
       "       45])"
      ]
     },
     "execution_count": 41,
     "metadata": {},
     "output_type": "execute_result"
    }
   ],
   "source": [
    "#creating the column 'age' for question 2 and 5 (Year - Manufactured_year)\n",
    "merged_df['Age'] = merged_df['Year'] - merged_df['Manufactured_year'].astype(int)\n",
    "merged_df['Age'].unique()"
   ]
  },
  {
   "cell_type": "code",
   "execution_count": 42,
   "id": "03d60571",
   "metadata": {},
   "outputs": [],
   "source": [
    "#There is an age value of -1 year, removing rows with that as it is impossible for a plane to have a negative age\n",
    "merged_df = merged_df[merged_df[\"Age\"] != -1]"
   ]
  },
  {
   "cell_type": "markdown",
   "id": "d4aa469d",
   "metadata": {},
   "source": [
    "#### Creating 'Year_month' column"
   ]
  },
  {
   "cell_type": "code",
   "execution_count": 43,
   "id": "37de37b6",
   "metadata": {},
   "outputs": [
    {
     "data": {
      "text/html": [
       "<div>\n",
       "<style scoped>\n",
       "    .dataframe tbody tr th:only-of-type {\n",
       "        vertical-align: middle;\n",
       "    }\n",
       "\n",
       "    .dataframe tbody tr th {\n",
       "        vertical-align: top;\n",
       "    }\n",
       "\n",
       "    .dataframe thead th {\n",
       "        text-align: right;\n",
       "    }\n",
       "</style>\n",
       "<table border=\"1\" class=\"dataframe\">\n",
       "  <thead>\n",
       "    <tr style=\"text-align: right;\">\n",
       "      <th></th>\n",
       "      <th>Year</th>\n",
       "      <th>Month</th>\n",
       "      <th>DayofMonth</th>\n",
       "      <th>DayOfWeek</th>\n",
       "      <th>DepTime</th>\n",
       "      <th>CRSDepTime</th>\n",
       "      <th>ArrTime</th>\n",
       "      <th>CRSArrTime</th>\n",
       "      <th>UniqueCarrier</th>\n",
       "      <th>FlightNum</th>\n",
       "      <th>TailNum</th>\n",
       "      <th>ActualElapsedTime</th>\n",
       "      <th>CRSElapsedTime</th>\n",
       "      <th>AirTime</th>\n",
       "      <th>ArrDelay</th>\n",
       "      <th>DepDelay</th>\n",
       "      <th>Origin</th>\n",
       "      <th>Dest</th>\n",
       "      <th>Distance</th>\n",
       "      <th>TaxiIn</th>\n",
       "      <th>TaxiOut</th>\n",
       "      <th>CarrierDelay</th>\n",
       "      <th>WeatherDelay</th>\n",
       "      <th>NASDelay</th>\n",
       "      <th>SecurityDelay</th>\n",
       "      <th>LateAircraftDelay</th>\n",
       "      <th>Time_bin</th>\n",
       "      <th>Manufactured_year</th>\n",
       "      <th>Age</th>\n",
       "      <th>Year_month</th>\n",
       "    </tr>\n",
       "  </thead>\n",
       "  <tbody>\n",
       "    <tr>\n",
       "      <th>0</th>\n",
       "      <td>2006</td>\n",
       "      <td>1</td>\n",
       "      <td>11</td>\n",
       "      <td>3</td>\n",
       "      <td>743</td>\n",
       "      <td>745</td>\n",
       "      <td>1024</td>\n",
       "      <td>1018</td>\n",
       "      <td>US</td>\n",
       "      <td>343</td>\n",
       "      <td>N657AW</td>\n",
       "      <td>281.0</td>\n",
       "      <td>273.0</td>\n",
       "      <td>223.0</td>\n",
       "      <td>6.0</td>\n",
       "      <td>-2.0</td>\n",
       "      <td>ATL</td>\n",
       "      <td>PHX</td>\n",
       "      <td>1587</td>\n",
       "      <td>45</td>\n",
       "      <td>13</td>\n",
       "      <td>0</td>\n",
       "      <td>0</td>\n",
       "      <td>0</td>\n",
       "      <td>0</td>\n",
       "      <td>0</td>\n",
       "      <td>6am - 8am</td>\n",
       "      <td>1999</td>\n",
       "      <td>7</td>\n",
       "      <td>2006-01</td>\n",
       "    </tr>\n",
       "    <tr>\n",
       "      <th>1</th>\n",
       "      <td>2006</td>\n",
       "      <td>1</td>\n",
       "      <td>11</td>\n",
       "      <td>3</td>\n",
       "      <td>1913</td>\n",
       "      <td>1912</td>\n",
       "      <td>2326</td>\n",
       "      <td>2331</td>\n",
       "      <td>US</td>\n",
       "      <td>9</td>\n",
       "      <td>N657AW</td>\n",
       "      <td>193.0</td>\n",
       "      <td>199.0</td>\n",
       "      <td>172.0</td>\n",
       "      <td>-5.0</td>\n",
       "      <td>1.0</td>\n",
       "      <td>PHX</td>\n",
       "      <td>ORD</td>\n",
       "      <td>1440</td>\n",
       "      <td>5</td>\n",
       "      <td>16</td>\n",
       "      <td>0</td>\n",
       "      <td>0</td>\n",
       "      <td>0</td>\n",
       "      <td>0</td>\n",
       "      <td>0</td>\n",
       "      <td>6pm - 8pm</td>\n",
       "      <td>1999</td>\n",
       "      <td>7</td>\n",
       "      <td>2006-01</td>\n",
       "    </tr>\n",
       "    <tr>\n",
       "      <th>2</th>\n",
       "      <td>2006</td>\n",
       "      <td>1</td>\n",
       "      <td>12</td>\n",
       "      <td>4</td>\n",
       "      <td>2355</td>\n",
       "      <td>2359</td>\n",
       "      <td>1201</td>\n",
       "      <td>1301</td>\n",
       "      <td>US</td>\n",
       "      <td>374</td>\n",
       "      <td>N657AW</td>\n",
       "      <td>86.0</td>\n",
       "      <td>92.0</td>\n",
       "      <td>58.0</td>\n",
       "      <td>-10.0</td>\n",
       "      <td>-4.0</td>\n",
       "      <td>LAS</td>\n",
       "      <td>OAK</td>\n",
       "      <td>407</td>\n",
       "      <td>5</td>\n",
       "      <td>23</td>\n",
       "      <td>0</td>\n",
       "      <td>0</td>\n",
       "      <td>0</td>\n",
       "      <td>0</td>\n",
       "      <td>0</td>\n",
       "      <td>10pm - 12am</td>\n",
       "      <td>1999</td>\n",
       "      <td>7</td>\n",
       "      <td>2006-01</td>\n",
       "    </tr>\n",
       "    <tr>\n",
       "      <th>3</th>\n",
       "      <td>2006</td>\n",
       "      <td>1</td>\n",
       "      <td>12</td>\n",
       "      <td>4</td>\n",
       "      <td>724</td>\n",
       "      <td>729</td>\n",
       "      <td>1017</td>\n",
       "      <td>1019</td>\n",
       "      <td>US</td>\n",
       "      <td>182</td>\n",
       "      <td>N657AW</td>\n",
       "      <td>233.0</td>\n",
       "      <td>230.0</td>\n",
       "      <td>200.0</td>\n",
       "      <td>-2.0</td>\n",
       "      <td>-5.0</td>\n",
       "      <td>ORD</td>\n",
       "      <td>PHX</td>\n",
       "      <td>1440</td>\n",
       "      <td>24</td>\n",
       "      <td>9</td>\n",
       "      <td>0</td>\n",
       "      <td>0</td>\n",
       "      <td>0</td>\n",
       "      <td>0</td>\n",
       "      <td>0</td>\n",
       "      <td>6am - 8am</td>\n",
       "      <td>1999</td>\n",
       "      <td>7</td>\n",
       "      <td>2006-01</td>\n",
       "    </tr>\n",
       "    <tr>\n",
       "      <th>4</th>\n",
       "      <td>2006</td>\n",
       "      <td>1</td>\n",
       "      <td>12</td>\n",
       "      <td>4</td>\n",
       "      <td>1305</td>\n",
       "      <td>1300</td>\n",
       "      <td>1848</td>\n",
       "      <td>1850</td>\n",
       "      <td>US</td>\n",
       "      <td>570</td>\n",
       "      <td>N657AW</td>\n",
       "      <td>223.0</td>\n",
       "      <td>230.0</td>\n",
       "      <td>207.0</td>\n",
       "      <td>-2.0</td>\n",
       "      <td>5.0</td>\n",
       "      <td>PHX</td>\n",
       "      <td>TPA</td>\n",
       "      <td>1788</td>\n",
       "      <td>5</td>\n",
       "      <td>11</td>\n",
       "      <td>0</td>\n",
       "      <td>0</td>\n",
       "      <td>0</td>\n",
       "      <td>0</td>\n",
       "      <td>0</td>\n",
       "      <td>12pm - 2pm</td>\n",
       "      <td>1999</td>\n",
       "      <td>7</td>\n",
       "      <td>2006-01</td>\n",
       "    </tr>\n",
       "  </tbody>\n",
       "</table>\n",
       "</div>"
      ],
      "text/plain": [
       "   Year  Month  DayofMonth  DayOfWeek  DepTime  CRSDepTime  ArrTime  \\\n",
       "0  2006      1          11          3      743         745     1024   \n",
       "1  2006      1          11          3     1913        1912     2326   \n",
       "2  2006      1          12          4     2355        2359     1201   \n",
       "3  2006      1          12          4      724         729     1017   \n",
       "4  2006      1          12          4     1305        1300     1848   \n",
       "\n",
       "   CRSArrTime UniqueCarrier  FlightNum TailNum  ActualElapsedTime  \\\n",
       "0        1018            US        343  N657AW              281.0   \n",
       "1        2331            US          9  N657AW              193.0   \n",
       "2        1301            US        374  N657AW               86.0   \n",
       "3        1019            US        182  N657AW              233.0   \n",
       "4        1850            US        570  N657AW              223.0   \n",
       "\n",
       "   CRSElapsedTime  AirTime  ArrDelay  DepDelay Origin Dest  Distance  TaxiIn  \\\n",
       "0           273.0    223.0       6.0      -2.0    ATL  PHX      1587      45   \n",
       "1           199.0    172.0      -5.0       1.0    PHX  ORD      1440       5   \n",
       "2            92.0     58.0     -10.0      -4.0    LAS  OAK       407       5   \n",
       "3           230.0    200.0      -2.0      -5.0    ORD  PHX      1440      24   \n",
       "4           230.0    207.0      -2.0       5.0    PHX  TPA      1788       5   \n",
       "\n",
       "   TaxiOut  CarrierDelay  WeatherDelay  NASDelay  SecurityDelay  \\\n",
       "0       13             0             0         0              0   \n",
       "1       16             0             0         0              0   \n",
       "2       23             0             0         0              0   \n",
       "3        9             0             0         0              0   \n",
       "4       11             0             0         0              0   \n",
       "\n",
       "   LateAircraftDelay     Time_bin Manufactured_year  Age Year_month  \n",
       "0                  0    6am - 8am              1999    7    2006-01  \n",
       "1                  0    6pm - 8pm              1999    7    2006-01  \n",
       "2                  0  10pm - 12am              1999    7    2006-01  \n",
       "3                  0    6am - 8am              1999    7    2006-01  \n",
       "4                  0   12pm - 2pm              1999    7    2006-01  "
      ]
     },
     "execution_count": 43,
     "metadata": {},
     "output_type": "execute_result"
    }
   ],
   "source": [
    "#creating a new column for question 3 called 'Year_Month' with the relevant month and year of each flight, together\n",
    "merged_df['Year_month'] = pd.to_datetime(merged_df['Month'].astype(str) + \"/\" + merged_df['Year'].astype(str),\n",
    "                                         format = '%m/%Y')\n",
    "merged_df['Year_month'] = merged_df['Year_month'].dt.to_period('M')\n",
    "merged_df.head()"
   ]
  },
  {
   "cell_type": "markdown",
   "id": "b803ba5b",
   "metadata": {},
   "source": [
    "#### Creating 'Date_time' column"
   ]
  },
  {
   "cell_type": "code",
   "execution_count": 44,
   "id": "7bdcbbd5",
   "metadata": {},
   "outputs": [],
   "source": [
    "#extracting the CRSDepTime as a time object\n",
    "Time = pd.to_datetime(merged_df['CRSDepTime'], format='%H%M').dt.time"
   ]
  },
  {
   "cell_type": "code",
   "execution_count": 45,
   "id": "931eae7f",
   "metadata": {},
   "outputs": [],
   "source": [
    "#getting DayofMonth, Month and Year as 'Date'\n",
    "Date = pd.to_datetime(merged_df['Year'].astype(str) + \"/\" + merged_df['Month'].astype(str) + \"/\" \n",
    "                                  + merged_df['DayofMonth'].astype(str),format = '%Y/%m/%d')"
   ]
  },
  {
   "cell_type": "code",
   "execution_count": 46,
   "id": "4cfe3f7c",
   "metadata": {},
   "outputs": [],
   "source": [
    "#creating a new column called 'Date_time' with the Date and Time combined as one for question 4\n",
    "merged_df[\"Date_time\"] = pd.to_datetime(Date.astype(str) + \",\"  + Time.astype(str), format = \"%Y-%m-%d,%H:%M:%S\")"
   ]
  },
  {
   "cell_type": "markdown",
   "id": "c6674c77",
   "metadata": {},
   "source": [
    "#### Creating 'Delay_status' column"
   ]
  },
  {
   "cell_type": "code",
   "execution_count": 47,
   "id": "688431c9",
   "metadata": {},
   "outputs": [],
   "source": [
    "#creating a new column to show whether a flight was delayed or not, for question 5\n",
    "merged_df[\"Delay_status\"] = merged_df[\"ArrDelay\"].apply(lambda x: 1 if x>0 else 0)"
   ]
  },
  {
   "cell_type": "markdown",
   "id": "3169c7b9",
   "metadata": {},
   "source": [
    "#### Final adjustments and exporting the dataframe to a csv file"
   ]
  },
  {
   "cell_type": "code",
   "execution_count": 48,
   "id": "5d5eb822",
   "metadata": {},
   "outputs": [],
   "source": [
    "#generating a random sample from 50% of the dataframe's entries \n",
    "sampled_df = merged_df.sample(frac = 0.5, random_state = 1)"
   ]
  },
  {
   "cell_type": "code",
   "execution_count": 49,
   "id": "3ff955d1",
   "metadata": {},
   "outputs": [
    {
     "name": "stdout",
     "output_type": "stream",
     "text": [
      "Int64Index([10696799,  1789344,  2784026, 10558871,  2869008,  5185736,\n",
      "             4855246,  9868895,  4619898,  9228051,\n",
      "            ...\n",
      "             9657854,  1869214,  7479508,   463796, 11364003,   533683,\n",
      "             9258024,  1415996,   650152,   841483],\n",
      "           dtype='int64', length=5750846)\n"
     ]
    }
   ],
   "source": [
    "#checking the index of the data frame\n",
    "print(sampled_df.index)"
   ]
  },
  {
   "cell_type": "code",
   "execution_count": 50,
   "id": "b3306c06",
   "metadata": {},
   "outputs": [],
   "source": [
    "#resetting the index of the dataframe\n",
    "sampled_df = sampled_df.reset_index(drop=True)"
   ]
  },
  {
   "cell_type": "code",
   "execution_count": 51,
   "id": "34d4bb08",
   "metadata": {},
   "outputs": [],
   "source": [
    "#saving the dataframe to a new CSV without the index of the dataframe\n",
    "sampled_df.to_csv('cleaned_dataset.csv', index=False)"
   ]
  }
 ],
 "metadata": {
  "kernelspec": {
   "display_name": "Python 3 (ipykernel)",
   "language": "python",
   "name": "python3"
  },
  "language_info": {
   "codemirror_mode": {
    "name": "ipython",
    "version": 3
   },
   "file_extension": ".py",
   "mimetype": "text/x-python",
   "name": "python",
   "nbconvert_exporter": "python",
   "pygments_lexer": "ipython3",
   "version": "3.9.12"
  }
 },
 "nbformat": 4,
 "nbformat_minor": 5
}
